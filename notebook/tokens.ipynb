{
 "cells": [
  {
   "cell_type": "markdown",
   "metadata": {},
   "source": [
    "## Imports"
   ]
  },
  {
   "cell_type": "code",
   "execution_count": 1,
   "metadata": {},
   "outputs": [],
   "source": [
    "\"\"\"Import Statements\"\"\"\n",
    "import os\n",
    "import pickle\n",
    "import re\n",
    "import spacy"
   ]
  },
  {
   "cell_type": "markdown",
   "metadata": {},
   "source": [
    "## Create tokens"
   ]
  },
  {
   "cell_type": "code",
   "execution_count": 2,
   "metadata": {},
   "outputs": [],
   "source": [
    "nlp = spacy.load(\"en_core_web_lg\")"
   ]
  },
  {
   "cell_type": "code",
   "execution_count": null,
   "metadata": {},
   "outputs": [],
   "source": [
    "STOP_WORDS = nlp.Defaults.stop_words.union({\"$\", '-', '', ' ',\n",
    "                                            'bred','breed', 'breeds','call', 'calls',\n",
    "                                            'combine', 'combines','consumer', 'contains','containing',\n",
    "                                            \"don't\", 'effect', 'effects','especially','explanations',\n",
    "                                            'flavor', 'flavors','flower','give', 'gives','got',  'high',\n",
    "                                            'i', \"i'm\", \"i've\",'including','it.', \"it's\", \n",
    "                                            'like', 'match', 'matches','making',\n",
    "                                            'offer', 'offers','pack', 'packs','price', 'probably',\n",
    "                                            'produce', 'produces', 'really',\n",
    "                                            'refers', 'report', 'reports', \"'s\", 's',\n",
    "                                            'seed', 'seeds','showing', \n",
    "                                            'smell','start', 'started', 'stem', 'stems',\n",
    "                                            'strain', 'strains','supposedly',\n",
    "                                            'technique', 'techniques','tend', 'tends',\n",
    "                                            'unavailable', 'unkown', 'user', 'users', 'utlizing',\n",
    "                                            'weed', 'week', None})"
   ]
  },
  {
   "cell_type": "code",
   "execution_count": null,
   "metadata": {},
   "outputs": [],
   "source": [
    "def tokenize(text):\n",
    "  doc = nlp(text) #casting as text\n",
    "  return [token.lemma_.strip() for token in doc if not token.is_stop and not token.is_punct]"
   ]
  },
  {
   "cell_type": "code",
   "execution_count": null,
   "metadata": {},
   "outputs": [],
   "source": []
  }
 ],
 "metadata": {
  "kernelspec": {
   "display_name": "U4-S1-NLP (Python3)",
   "language": "python",
   "name": "u4-s1-nlp"
  },
  "language_info": {
   "codemirror_mode": {
    "name": "ipython",
    "version": 3
   },
   "file_extension": ".py",
   "mimetype": "text/x-python",
   "name": "python",
   "nbconvert_exporter": "python",
   "pygments_lexer": "ipython3",
   "version": "3.7.0"
  }
 },
 "nbformat": 4,
 "nbformat_minor": 4
}
