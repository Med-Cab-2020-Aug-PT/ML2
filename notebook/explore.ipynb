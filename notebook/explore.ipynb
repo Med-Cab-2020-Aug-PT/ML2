{
 "cells": [
  {
   "cell_type": "code",
   "execution_count": 1,
   "metadata": {},
   "outputs": [],
   "source": [
    "import pandas as pd"
   ]
  },
  {
   "cell_type": "code",
   "execution_count": 4,
   "metadata": {},
   "outputs": [
    {
     "output_type": "execute_result",
     "data": {
      "text/plain": "   _id             Name    Type  Rating  \\\n0    0  Kelly Hill Gold  Indica     5.0   \n1    1       Spyder Mon  Hybrid     5.0   \n2    2            Mochi  Hybrid     5.0   \n3    3    Molokai Purpz  Indica     5.0   \n4    4         Monolith  Indica     5.0   \n\n                                      Effects  \\\n0  Happy,Energetic,Euphoric,Talkative,Aroused   \n1     Uplifted,Creative,Focused,Happy,Relaxed   \n2          Sleepy,Happy,Hungry,Relaxed,Tingly   \n3    Aroused,Creative,Euphoric,Relaxed,Sleepy   \n4      Relaxed,Sleepy,Tingly,Euphoric,Focused   \n\n                                         Description                Flavors  \\\n0  Cultivated by Joseph Arthur Botanicals in Colo...   Pepper,Earthy,Coffee   \n1  Spyder Mon is an uplifting CBD strain with a g...    Citrus,Earthy,Sweet   \n2  Mochi by Sherbinski is another strain that lea...  Pungent,Minty,Flowery   \n3  Moloka'i Purpz is a luscious Hawaiian landrace...      Berry,Grape,Sweet   \n4  Monolith is an indica-dominant strain with Afg...    Pungent,Earthy,Pine   \n\n                 Nearest  \n0   992,897,439,184,1877  \n1   218,157,1627,223,742  \n2    614,457,208,705,130  \n3   1478,562,1063,50,390  \n4  1397,862,1094,214,141  ",
      "text/html": "<div>\n<style scoped>\n    .dataframe tbody tr th:only-of-type {\n        vertical-align: middle;\n    }\n\n    .dataframe tbody tr th {\n        vertical-align: top;\n    }\n\n    .dataframe thead th {\n        text-align: right;\n    }\n</style>\n<table border=\"1\" class=\"dataframe\">\n  <thead>\n    <tr style=\"text-align: right;\">\n      <th></th>\n      <th>_id</th>\n      <th>Name</th>\n      <th>Type</th>\n      <th>Rating</th>\n      <th>Effects</th>\n      <th>Description</th>\n      <th>Flavors</th>\n      <th>Nearest</th>\n    </tr>\n  </thead>\n  <tbody>\n    <tr>\n      <th>0</th>\n      <td>0</td>\n      <td>Kelly Hill Gold</td>\n      <td>Indica</td>\n      <td>5.0</td>\n      <td>Happy,Energetic,Euphoric,Talkative,Aroused</td>\n      <td>Cultivated by Joseph Arthur Botanicals in Colo...</td>\n      <td>Pepper,Earthy,Coffee</td>\n      <td>992,897,439,184,1877</td>\n    </tr>\n    <tr>\n      <th>1</th>\n      <td>1</td>\n      <td>Spyder Mon</td>\n      <td>Hybrid</td>\n      <td>5.0</td>\n      <td>Uplifted,Creative,Focused,Happy,Relaxed</td>\n      <td>Spyder Mon is an uplifting CBD strain with a g...</td>\n      <td>Citrus,Earthy,Sweet</td>\n      <td>218,157,1627,223,742</td>\n    </tr>\n    <tr>\n      <th>2</th>\n      <td>2</td>\n      <td>Mochi</td>\n      <td>Hybrid</td>\n      <td>5.0</td>\n      <td>Sleepy,Happy,Hungry,Relaxed,Tingly</td>\n      <td>Mochi by Sherbinski is another strain that lea...</td>\n      <td>Pungent,Minty,Flowery</td>\n      <td>614,457,208,705,130</td>\n    </tr>\n    <tr>\n      <th>3</th>\n      <td>3</td>\n      <td>Molokai Purpz</td>\n      <td>Indica</td>\n      <td>5.0</td>\n      <td>Aroused,Creative,Euphoric,Relaxed,Sleepy</td>\n      <td>Moloka'i Purpz is a luscious Hawaiian landrace...</td>\n      <td>Berry,Grape,Sweet</td>\n      <td>1478,562,1063,50,390</td>\n    </tr>\n    <tr>\n      <th>4</th>\n      <td>4</td>\n      <td>Monolith</td>\n      <td>Indica</td>\n      <td>5.0</td>\n      <td>Relaxed,Sleepy,Tingly,Euphoric,Focused</td>\n      <td>Monolith is an indica-dominant strain with Afg...</td>\n      <td>Pungent,Earthy,Pine</td>\n      <td>1397,862,1094,214,141</td>\n    </tr>\n  </tbody>\n</table>\n</div>"
     },
     "metadata": {},
     "execution_count": 4
    }
   ],
   "source": [
    "df = pd.read_csv(\"../app/data/csv/cannabis.csv\")\n",
    "df.head()"
   ]
  },
  {
   "cell_type": "code",
   "execution_count": 5,
   "metadata": {},
   "outputs": [
    {
     "output_type": "execute_result",
     "data": {
      "text/plain": "array(['Pepper,Earthy,Coffee', 'Citrus,Earthy,Sweet',\n       'Pungent,Minty,Flowery', ..., 'Spicy,Herbal,Citrus,Chestnut',\n       'Tropical,Flowery,Pungent', 'Citrus,Sweet'], dtype=object)"
     },
     "metadata": {},
     "execution_count": 5
    }
   ],
   "source": [
    "df['Flavors'].unique()"
   ]
  },
  {
   "cell_type": "code",
   "execution_count": 6,
   "metadata": {},
   "outputs": [],
   "source": [
    "df[[0, 1, 2, 3, 4]]=df['Flavors'].str.split(\",\", expand=True)"
   ]
  },
  {
   "cell_type": "code",
   "execution_count": 7,
   "metadata": {
    "tags": []
   },
   "outputs": [],
   "source": [
    "mylist = df[0].to_list()"
   ]
  },
  {
   "cell_type": "code",
   "execution_count": 8,
   "metadata": {},
   "outputs": [],
   "source": [
    "mylist2 = df[1].to_list()"
   ]
  },
  {
   "cell_type": "code",
   "execution_count": 9,
   "metadata": {},
   "outputs": [],
   "source": [
    "mylist3 = df[2].to_list()"
   ]
  },
  {
   "cell_type": "code",
   "execution_count": 10,
   "metadata": {},
   "outputs": [],
   "source": [
    "mylist4 = df[3].to_list()"
   ]
  },
  {
   "cell_type": "code",
   "execution_count": 11,
   "metadata": {},
   "outputs": [],
   "source": [
    "mylist5= df[4].to_list()"
   ]
  },
  {
   "cell_type": "code",
   "execution_count": 12,
   "metadata": {},
   "outputs": [],
   "source": [
    "mylist = mylist + mylist2 + mylist3 + mylist4 + mylist5"
   ]
  },
  {
   "cell_type": "code",
   "execution_count": 13,
   "metadata": {},
   "outputs": [],
   "source": [
    "final_list = list(dict.fromkeys(mylist))"
   ]
  },
  {
   "cell_type": "code",
   "execution_count": 16,
   "metadata": {},
   "outputs": [
    {
     "output_type": "execute_result",
     "data": {
      "text/plain": "['Ammonia',\n 'Apple',\n 'Apricot',\n 'Berry',\n 'Blue',\n 'Blueberry',\n 'Butter',\n 'Cheese',\n 'Chemical',\n 'Citrus',\n 'Coffee',\n 'Diesel',\n 'Earthy',\n 'Flowery',\n 'Grape',\n 'Grapefruit',\n 'Honey',\n 'Lavender',\n 'Lemon',\n 'Lime',\n 'Mango',\n 'Menthol',\n 'Mint',\n 'Minty',\n 'Nutty',\n 'Orange',\n 'Peach',\n 'Pear',\n 'Pepper',\n 'Pine',\n 'Pineapple',\n 'Plum',\n 'Pungent',\n 'Rose',\n 'Sage',\n 'Skunk',\n 'Spicy',\n 'Strawberry',\n 'Sweet',\n 'Tar',\n 'Tea',\n 'Tobacco',\n 'Tree',\n 'Tropical',\n 'Vanilla',\n 'Violet',\n 'Woody',\n None,\n 'Herbal',\n 'Fruit',\n 'Chestnut']"
     },
     "metadata": {},
     "execution_count": 16
    }
   ],
   "source": [
    "final_list"
   ]
  },
  {
   "cell_type": "code",
   "execution_count": 17,
   "metadata": {},
   "outputs": [
    {
     "output_type": "execute_result",
     "data": {
      "text/plain": "51"
     },
     "metadata": {},
     "execution_count": 17
    }
   ],
   "source": [
    "len(final_list)"
   ]
  },
  {
   "cell_type": "code",
   "execution_count": 25,
   "metadata": {},
   "outputs": [],
   "source": [
    "df[[0, 1, 2, 3, 4]] = df['Effects'].str.split(\",\", expand=True)"
   ]
  },
  {
   "cell_type": "code",
   "execution_count": 26,
   "metadata": {},
   "outputs": [],
   "source": [
    "elist = df[0].to_list()"
   ]
  },
  {
   "cell_type": "code",
   "execution_count": 27,
   "metadata": {},
   "outputs": [],
   "source": [
    "elist2 = df[1].to_list()"
   ]
  },
  {
   "cell_type": "code",
   "execution_count": 28,
   "metadata": {},
   "outputs": [],
   "source": [
    "elist3 = df[2].to_list()"
   ]
  },
  {
   "cell_type": "code",
   "execution_count": 29,
   "metadata": {},
   "outputs": [],
   "source": [
    "elist4 = df[3].to_list()"
   ]
  },
  {
   "cell_type": "code",
   "execution_count": 30,
   "metadata": {},
   "outputs": [],
   "source": [
    "elist5 = df[4].to_list()"
   ]
  },
  {
   "cell_type": "code",
   "execution_count": 31,
   "metadata": {},
   "outputs": [],
   "source": [
    "elist = elist + elist2 + elist3 + elist4 + elist5"
   ]
  },
  {
   "cell_type": "code",
   "execution_count": 32,
   "metadata": {},
   "outputs": [],
   "source": [
    "final_elist = list(dict.fromkeys(elist))"
   ]
  },
  {
   "cell_type": "code",
   "execution_count": 33,
   "metadata": {},
   "outputs": [
    {
     "output_type": "execute_result",
     "data": {
      "text/plain": "['Happy',\n 'Uplifted',\n 'Sleepy',\n 'Aroused',\n 'Relaxed',\n 'Creative',\n 'Euphoric',\n 'Energetic',\n 'Tingly',\n 'Talkative',\n 'Giggly',\n 'Focused',\n 'Hungry',\n None]"
     },
     "metadata": {},
     "execution_count": 33
    }
   ],
   "source": [
    "final_elist"
   ]
  },
  {
   "cell_type": "code",
   "execution_count": 36,
   "metadata": {},
   "outputs": [
    {
     "output_type": "execute_result",
     "data": {
      "text/plain": "14"
     },
     "metadata": {},
     "execution_count": 36
    }
   ],
   "source": [
    "len(final_elist)"
   ]
  },
  {
   "cell_type": "code",
   "execution_count": null,
   "metadata": {},
   "outputs": [],
   "source": []
  }
 ],
 "metadata": {
  "kernelspec": {
   "display_name": "Python 3",
   "language": "python",
   "name": "python3"
  },
  "language_info": {
   "codemirror_mode": {
    "name": "ipython",
    "version": 3
   },
   "file_extension": ".py",
   "mimetype": "text/x-python",
   "name": "python",
   "nbconvert_exporter": "python",
   "pygments_lexer": "ipython3",
   "version": "3.7.6-final"
  }
 },
 "nbformat": 4,
 "nbformat_minor": 4
}