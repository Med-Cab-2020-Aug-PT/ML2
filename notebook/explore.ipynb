{
 "cells": [
  {
   "cell_type": "code",
   "execution_count": 1,
   "metadata": {},
   "outputs": [],
   "source": [
    "import pandas as pd"
   ]
  },
  {
   "cell_type": "code",
   "execution_count": 2,
   "metadata": {},
   "outputs": [
    {
     "output_type": "execute_result",
     "data": {
      "text/plain": "   Index             Name    Type  Rating  \\\n0      0  Kelly Hill Gold  Indica     5.0   \n1      1       Spyder Mon  Hybrid     5.0   \n2      2            Mochi  Hybrid     5.0   \n3      3    Molokai Purpz  Indica     5.0   \n4      4         Monolith  Indica     5.0   \n\n                                      Effects  \\\n0  Happy,Energetic,Euphoric,Talkative,Aroused   \n1     Uplifted,Creative,Focused,Happy,Relaxed   \n2          Sleepy,Happy,Hungry,Relaxed,Tingly   \n3    Aroused,Creative,Euphoric,Relaxed,Sleepy   \n4      Relaxed,Sleepy,Tingly,Euphoric,Focused   \n\n                                         Description                Flavors  \\\n0  Cultivated  by Joseph Arthur Botanicals in Col...   Pepper,Earthy,Coffee   \n1  Spyder Mon is an uplifting CBD strain with a g...    Citrus,Earthy,Sweet   \n2  Mochi by Sherbinski is another strain that lea...  Pungent,Minty,Flowery   \n3  Moloka'i Purpz is a luscious Hawaiian landrace...      Berry,Grape,Sweet   \n4  Monolith is an indica-dominant strain with Afg...    Pungent,Earthy,Pine   \n\n                 Nearest  \n0   992,897,439,184,1877  \n1   218,157,1627,223,742  \n2    614,457,208,705,130  \n3   1478,562,1063,50,390  \n4  1397,862,1094,214,141  ",
      "text/html": "<div>\n<style scoped>\n    .dataframe tbody tr th:only-of-type {\n        vertical-align: middle;\n    }\n\n    .dataframe tbody tr th {\n        vertical-align: top;\n    }\n\n    .dataframe thead th {\n        text-align: right;\n    }\n</style>\n<table border=\"1\" class=\"dataframe\">\n  <thead>\n    <tr style=\"text-align: right;\">\n      <th></th>\n      <th>Index</th>\n      <th>Name</th>\n      <th>Type</th>\n      <th>Rating</th>\n      <th>Effects</th>\n      <th>Description</th>\n      <th>Flavors</th>\n      <th>Nearest</th>\n    </tr>\n  </thead>\n  <tbody>\n    <tr>\n      <th>0</th>\n      <td>0</td>\n      <td>Kelly Hill Gold</td>\n      <td>Indica</td>\n      <td>5.0</td>\n      <td>Happy,Energetic,Euphoric,Talkative,Aroused</td>\n      <td>Cultivated  by Joseph Arthur Botanicals in Col...</td>\n      <td>Pepper,Earthy,Coffee</td>\n      <td>992,897,439,184,1877</td>\n    </tr>\n    <tr>\n      <th>1</th>\n      <td>1</td>\n      <td>Spyder Mon</td>\n      <td>Hybrid</td>\n      <td>5.0</td>\n      <td>Uplifted,Creative,Focused,Happy,Relaxed</td>\n      <td>Spyder Mon is an uplifting CBD strain with a g...</td>\n      <td>Citrus,Earthy,Sweet</td>\n      <td>218,157,1627,223,742</td>\n    </tr>\n    <tr>\n      <th>2</th>\n      <td>2</td>\n      <td>Mochi</td>\n      <td>Hybrid</td>\n      <td>5.0</td>\n      <td>Sleepy,Happy,Hungry,Relaxed,Tingly</td>\n      <td>Mochi by Sherbinski is another strain that lea...</td>\n      <td>Pungent,Minty,Flowery</td>\n      <td>614,457,208,705,130</td>\n    </tr>\n    <tr>\n      <th>3</th>\n      <td>3</td>\n      <td>Molokai Purpz</td>\n      <td>Indica</td>\n      <td>5.0</td>\n      <td>Aroused,Creative,Euphoric,Relaxed,Sleepy</td>\n      <td>Moloka'i Purpz is a luscious Hawaiian landrace...</td>\n      <td>Berry,Grape,Sweet</td>\n      <td>1478,562,1063,50,390</td>\n    </tr>\n    <tr>\n      <th>4</th>\n      <td>4</td>\n      <td>Monolith</td>\n      <td>Indica</td>\n      <td>5.0</td>\n      <td>Relaxed,Sleepy,Tingly,Euphoric,Focused</td>\n      <td>Monolith is an indica-dominant strain with Afg...</td>\n      <td>Pungent,Earthy,Pine</td>\n      <td>1397,862,1094,214,141</td>\n    </tr>\n  </tbody>\n</table>\n</div>"
     },
     "metadata": {},
     "execution_count": 2
    }
   ],
   "source": [
    "df = pd.read_csv(\"../data/cannabis.csv\")\n",
    "df.head()"
   ]
  },
  {
   "cell_type": "code",
   "execution_count": 3,
   "metadata": {},
   "outputs": [
    {
     "output_type": "execute_result",
     "data": {
      "text/plain": "array(['Pepper,Earthy,Coffee', 'Citrus,Earthy,Sweet',\n       'Pungent,Minty,Flowery', ..., 'Spicy,Herbal,Citrus,Chestnut',\n       'Tropical,Flowery,Pungent', 'Citrus,Sweet'], dtype=object)"
     },
     "metadata": {},
     "execution_count": 3
    }
   ],
   "source": [
    "df['Flavors'].unique()"
   ]
  },
  {
   "cell_type": "code",
   "execution_count": 13,
   "metadata": {},
   "outputs": [],
   "source": [
    "df[[0, 1, 2, 3, 4]]=df['Flavors'].str.split(\",\", expand=True)"
   ]
  },
  {
   "cell_type": "code",
   "execution_count": 14,
   "metadata": {
    "tags": []
   },
   "outputs": [],
   "source": [
    "mylist = df[0].to_list()"
   ]
  },
  {
   "cell_type": "code",
   "execution_count": 15,
   "metadata": {},
   "outputs": [],
   "source": [
    "mylist2 = df[1].to_list()"
   ]
  },
  {
   "cell_type": "code",
   "execution_count": 16,
   "metadata": {},
   "outputs": [],
   "source": [
    "mylist3 = df[2].to_list()"
   ]
  },
  {
   "cell_type": "code",
   "execution_count": 17,
   "metadata": {},
   "outputs": [],
   "source": [
    "mylist4 = df[3].to_list()"
   ]
  },
  {
   "cell_type": "code",
   "execution_count": 18,
   "metadata": {},
   "outputs": [],
   "source": [
    "mylist5= df[4].to_list()"
   ]
  },
  {
   "cell_type": "code",
   "execution_count": 19,
   "metadata": {},
   "outputs": [],
   "source": [
    "mylist = mylist + mylist2 + mylist3 + mylist4 + mylist5"
   ]
  },
  {
   "cell_type": "code",
   "execution_count": 20,
   "metadata": {},
   "outputs": [
    {
     "output_type": "execute_result",
     "data": {
      "text/plain": "['Pepper',\n 'Citrus',\n 'Pungent',\n 'Berry',\n 'Pungent',\n 'Earthy',\n 'Lavender',\n 'Ammonia',\n 'Sweet',\n 'Sweet',\n 'Lemon',\n 'Sweet',\n 'Citrus',\n 'Sweet',\n 'Pungent',\n 'Sweet',\n 'Citrus',\n 'Diesel',\n 'Pepper',\n 'Flowery',\n 'Sweet',\n 'Citrus',\n 'Earthy',\n 'Earthy',\n 'Earthy',\n 'Spicy',\n 'Sweet',\n 'Citrus',\n 'Sweet',\n 'Lime',\n 'Sweet',\n 'Diesel',\n 'Flowery',\n 'Pungent',\n 'Earthy',\n 'Ammonia',\n 'Blueberry',\n 'Spicy',\n 'Earthy',\n 'Sweet',\n 'Sweet',\n 'Sweet',\n 'Pineapple',\n 'Pine',\n 'Flowery',\n 'Sweet',\n 'Diesel',\n 'Sweet',\n 'Blueberry',\n 'Berry',\n 'Diesel',\n 'Cheese',\n 'Citrus',\n 'Earthy',\n 'Lemon',\n 'Diesel',\n 'Grapefruit',\n 'Blueberry',\n 'Lime',\n 'Spicy',\n 'Diesel',\n 'Lemon',\n 'Sweet',\n 'Tropical',\n 'Diesel',\n 'Sweet',\n 'Earthy',\n 'Berry',\n 'Sage',\n 'Diesel',\n 'Cheese',\n 'Citrus',\n 'Tree',\n 'Pungent',\n 'Sweet',\n 'Sweet',\n 'Earthy',\n 'Blueberry',\n 'Berry',\n 'Citrus',\n 'Ammonia',\n 'Sweet',\n 'Sweet',\n 'Pepper',\n 'Berry',\n 'Sweet',\n 'Tropical',\n 'Tropical',\n 'Diesel',\n 'Earthy',\n 'Sweet',\n 'Minty',\n 'Earthy',\n 'Blueberry',\n 'Sweet',\n 'Citrus',\n 'Pungent',\n 'Skunk',\n 'Sweet',\n 'Citrus',\n 'Sweet',\n 'Sweet',\n 'Sweet',\n 'Sweet',\n 'Grape',\n 'Sweet',\n 'Pepper',\n 'Earthy',\n 'Citrus',\n 'Diesel',\n 'Ammonia',\n 'Sweet',\n 'Minty',\n 'Grape',\n 'Sweet',\n 'Earthy',\n 'Earthy',\n 'Sweet',\n 'Sweet',\n 'Earthy',\n 'Diesel',\n 'Earthy',\n 'Earthy',\n 'Pepper',\n 'Earthy',\n 'Berry',\n 'Spicy',\n 'Earthy',\n 'Citrus',\n 'Citrus',\n 'Berry',\n 'Spicy',\n 'Diesel',\n 'Earthy',\n 'Earthy',\n 'Sweet',\n 'Blueberry',\n 'Earthy',\n 'Earthy',\n 'Strawberry',\n 'Spicy',\n 'Lemon',\n 'Citrus',\n 'Spicy',\n 'Diesel',\n 'Sweet',\n 'Minty',\n 'Sweet',\n 'Sweet',\n 'Berry',\n 'Tropical',\n 'Diesel',\n 'Lavender',\n 'Earthy',\n 'Earthy',\n 'Sweet',\n 'Lemon',\n 'Sweet',\n 'Minty',\n 'Blueberry',\n 'Diesel',\n 'Pungent',\n 'Sweet',\n 'Ammonia',\n 'Sweet',\n 'Spicy',\n 'Sweet',\n 'Sweet',\n 'Spicy',\n 'Sweet',\n 'Sweet',\n 'Earthy',\n 'Flowery',\n 'Lemon',\n 'Diesel',\n 'Lemon',\n 'Pine',\n 'Sweet',\n 'Blueberry',\n 'Earthy',\n 'Berry',\n 'Earthy',\n 'Berry',\n 'Lavender',\n 'Orange',\n 'Berry',\n 'Pungent',\n 'Tropical',\n 'Orange',\n 'Citrus',\n 'Citrus',\n 'Earthy',\n 'Grape',\n 'Earthy',\n 'Earthy',\n 'Sweet',\n 'Mango',\n 'Woody',\n 'Pineapple',\n 'Butter',\n 'Sweet',\n 'Flowery',\n 'Berry',\n 'Minty',\n 'Earthy',\n 'Pine',\n 'Blueberry',\n 'Orange',\n 'Sweet',\n 'Lime',\n 'Pungent',\n 'Pungent',\n 'Lime',\n 'Earthy',\n 'Earthy',\n 'Pungent',\n 'Diesel',\n 'Pungent',\n 'Sweet',\n 'Strawberry',\n 'Pungent',\n 'Tea',\n 'Grape',\n 'Lemon',\n 'Pungent',\n 'Grape',\n 'Spicy',\n 'Earthy',\n 'Earthy',\n 'Spicy',\n 'Blueberry',\n 'Spicy',\n 'Pepper',\n 'Orange',\n 'Citrus',\n 'Earthy',\n 'Earthy',\n 'Earthy',\n 'Sweet',\n 'Menthol',\n 'Sweet',\n 'Skunk',\n 'Earthy',\n 'Citrus',\n 'Spicy',\n 'Pine',\n 'Sweet',\n 'Grape',\n 'Pine',\n 'Earthy',\n 'Minty',\n 'Diesel',\n 'Cheese',\n 'Earthy',\n 'Earthy',\n 'Earthy',\n 'Sweet',\n 'Pungent',\n 'Sweet',\n 'Citrus',\n 'Butter',\n 'Spicy',\n 'Lemon',\n 'Citrus',\n 'Diesel',\n 'Minty',\n 'Pine',\n 'Pineapple',\n 'Berry',\n 'Chemical',\n 'Earthy',\n 'Sweet',\n 'Earthy',\n 'Flowery',\n 'Lemon',\n 'Citrus',\n 'Pungent',\n 'Orange',\n 'Sweet',\n 'Spicy',\n 'Earthy',\n 'Earthy',\n 'Sage',\n 'Earthy',\n 'Sweet',\n 'Sweet',\n 'Earthy',\n 'Coffee',\n 'Diesel',\n 'Citrus',\n 'Pungent',\n 'Pepper',\n 'Pungent',\n 'Earthy',\n 'Lime',\n 'Sweet',\n 'Violet',\n 'Berry',\n 'Earthy',\n 'Sweet',\n 'Sweet',\n 'Rose',\n 'Sweet',\n 'Sweet',\n 'Earthy',\n 'Earthy',\n 'Sweet',\n 'Strawberry',\n 'Earthy',\n 'Menthol',\n 'Skunk',\n 'Sweet',\n 'Skunk',\n 'Berry',\n 'Spicy',\n 'Sweet',\n 'Minty',\n 'Sweet',\n 'Sweet',\n 'Citrus',\n 'Sweet',\n 'Berry',\n 'Diesel',\n 'Sweet',\n 'Menthol',\n 'Berry',\n 'Flowery',\n 'Earthy',\n 'Citrus',\n 'Berry',\n 'Pungent',\n 'Apple',\n 'Sweet',\n 'Sweet',\n 'Earthy',\n 'Diesel',\n 'Sweet',\n 'Citrus',\n 'Flowery',\n 'Grape',\n 'Menthol',\n 'Citrus',\n 'Pungent',\n 'Earthy',\n 'Pine',\n 'Strawberry',\n 'Sweet',\n 'Diesel',\n 'Lemon',\n 'Pine',\n 'Berry',\n 'Flowery',\n 'Earthy',\n 'Diesel',\n 'Sage',\n 'Spicy',\n 'Berry',\n 'Diesel',\n 'Berry',\n 'Earthy',\n 'Citrus',\n 'Sweet',\n 'Sage',\n 'Woody',\n 'Butter',\n 'Flowery',\n 'Sweet',\n 'Pine',\n 'Berry',\n 'Sweet',\n 'Pungent',\n 'Blueberry',\n 'Citrus',\n 'Sweet',\n 'Mango',\n 'Sweet',\n 'Pungent',\n 'Berry',\n 'Earthy',\n 'Berry',\n 'Sweet',\n 'Earthy',\n 'Sweet',\n 'Earthy',\n 'Pine',\n 'Berry',\n 'Cheese',\n 'Citrus',\n 'Earthy',\n 'Earthy',\n 'Grape',\n 'Earthy',\n 'Earthy',\n 'Earthy',\n 'Earthy',\n 'Earthy',\n 'Flowery',\n 'Lemon',\n 'Citrus',\n 'Diesel',\n 'Earthy',\n 'Pine',\n 'Earthy',\n 'Lemon',\n 'Citrus',\n 'Lime',\n 'Tropical',\n 'Earthy',\n 'Sweet',\n 'Earthy',\n 'Earthy',\n 'Sweet',\n 'Earthy',\n 'Citrus',\n 'Earthy',\n 'Earthy',\n 'Sweet',\n 'Blueberry',\n 'Honey',\n 'Earthy',\n 'Tropical',\n 'Earthy',\n 'Sweet',\n 'Diesel',\n 'Earthy',\n 'Earthy',\n 'Strawberry',\n 'Earthy',\n 'Earthy',\n 'Pineapple',\n 'Sweet',\n 'Lemon',\n 'Diesel',\n 'Sweet',\n 'Sweet',\n 'Earthy',\n 'Sweet',\n 'Coffee',\n 'Pungent',\n 'Earthy',\n 'Sweet',\n 'Earthy',\n 'Flowery',\n 'Apricot',\n 'Lemon',\n 'Diesel',\n 'Spicy',\n 'Lemon',\n 'Earthy',\n 'Flowery',\n 'Pepper',\n 'Pungent',\n 'Earthy',\n 'Sweet',\n 'Citrus',\n 'Earthy',\n 'Tar',\n 'Sweet',\n 'Tropical',\n 'Pine',\n 'Pine',\n 'Sweet',\n 'Diesel',\n 'Skunk',\n 'Mango',\n 'Citrus',\n 'Sweet',\n 'Citrus',\n 'Pine',\n 'Earthy',\n 'Earthy',\n 'Berry',\n 'Lime',\n 'Woody',\n 'Earthy',\n 'Spicy',\n 'Sweet',\n 'Citrus',\n 'Berry',\n 'Earthy',\n 'Earthy',\n 'Berry',\n 'Berry',\n 'Citrus',\n 'Earthy',\n 'Blueberry',\n 'Pungent',\n 'Earthy',\n 'Earthy',\n 'Earthy',\n 'Citrus',\n 'Diesel',\n 'Pineapple',\n 'Pungent',\n 'Citrus',\n 'Earthy',\n 'Earthy',\n 'Earthy',\n 'Earthy',\n 'Sweet',\n 'Citrus',\n 'Sweet',\n 'Earthy',\n 'Blueberry',\n 'Earthy',\n 'Earthy',\n 'Sweet',\n 'Sweet',\n 'Peach',\n 'Sweet',\n 'Earthy',\n 'Blueberry',\n 'Berry',\n 'Lavender',\n 'Berry',\n 'Pungent',\n 'Earthy',\n 'Berry',\n 'Earthy',\n 'Earthy',\n 'Tropical',\n 'Sweet',\n 'Sweet',\n 'Sweet',\n 'Earthy',\n 'Berry',\n 'Blueberry',\n 'Pungent',\n 'Sweet',\n 'Flowery',\n 'Berry',\n 'Berry',\n 'Pine',\n 'Sweet',\n 'Earthy',\n 'Citrus',\n 'Sweet',\n 'Diesel',\n 'Pear',\n 'Earthy',\n 'Berry',\n 'Citrus',\n 'Earthy',\n 'Sweet',\n 'Flowery',\n 'Sweet',\n 'Earthy',\n 'Sweet',\n 'Pungent',\n 'Grape',\n 'Citrus',\n 'Sweet',\n 'Lemon',\n 'Sweet',\n 'Citrus',\n 'Berry',\n 'Sweet',\n 'Grape',\n 'Citrus',\n 'Lemon',\n 'Sweet',\n 'Sweet',\n 'Grape',\n 'Earthy',\n 'Sweet',\n 'Sweet',\n 'Earthy',\n 'Sweet',\n 'Ammonia',\n 'Sweet',\n 'Earthy',\n 'Flowery',\n 'Earthy',\n 'Earthy',\n 'Citrus',\n 'Woody',\n 'Woody',\n 'Sweet',\n 'Sweet',\n 'Grape',\n 'Minty',\n 'Sweet',\n 'Earthy',\n 'Earthy',\n 'Chemical',\n 'Blueberry',\n 'Blueberry',\n 'Earthy',\n 'Earthy',\n 'Earthy',\n 'Earthy',\n 'Earthy',\n 'Earthy',\n 'Berry',\n 'Earthy',\n 'Berry',\n 'Earthy',\n 'Earthy',\n 'Sweet',\n 'Earthy',\n 'Grape',\n 'Earthy',\n 'Sweet',\n 'Minty',\n 'Earthy',\n 'Citrus',\n 'Earthy',\n 'Earthy',\n 'Earthy',\n 'Earthy',\n 'Sweet',\n 'Earthy',\n 'Earthy',\n 'Mango',\n 'Sweet',\n 'Sweet',\n 'Citrus',\n 'Earthy',\n 'Earthy',\n 'Earthy',\n 'Earthy',\n 'Strawberry',\n 'Berry',\n 'Earthy',\n 'Diesel',\n 'Minty',\n 'Earthy',\n 'Woody',\n 'Earthy',\n 'Pungent',\n 'Diesel',\n 'Rose',\n 'Spicy',\n 'Citrus',\n 'Berry',\n 'Woody',\n 'Lemon',\n 'Earthy',\n 'Lemon',\n 'Pungent',\n 'Earthy',\n 'Mango',\n 'Mango',\n 'Berry',\n 'Diesel',\n 'Sweet',\n 'Skunk',\n 'Berry',\n 'Earthy',\n 'Grape',\n 'Sweet',\n 'Lemon',\n 'Strawberry',\n 'Citrus',\n 'Citrus',\n 'Sweet',\n 'Sweet',\n 'Pine',\n 'Earthy',\n 'Earthy',\n 'Tropical',\n 'Pungent',\n 'Earthy',\n 'Sweet',\n 'Berry',\n 'Earthy',\n 'Citrus',\n 'Earthy',\n 'Pungent',\n 'Pineapple',\n 'Strawberry',\n 'Earthy',\n 'Citrus',\n 'Sweet',\n 'Earthy',\n 'Citrus',\n 'Earthy',\n 'Cheese',\n 'Sweet',\n 'Berry',\n 'Sweet',\n 'Sweet',\n 'Earthy',\n 'Earthy',\n 'Earthy',\n 'Earthy',\n 'Earthy',\n 'Earthy',\n 'Earthy',\n 'Earthy',\n 'Sweet',\n 'Sweet',\n 'Earthy',\n 'Tropical',\n 'Orange',\n 'Pine',\n 'Citrus',\n 'Grape',\n 'Earthy',\n 'Grape',\n 'Pungent',\n 'Berry',\n 'Blueberry',\n 'Pine',\n 'Earthy',\n 'Sweet',\n 'Earthy',\n 'Citrus',\n 'Earthy',\n 'Sweet',\n 'Pungent',\n 'Citrus',\n 'Earthy',\n 'Pineapple',\n 'Earthy',\n 'Earthy',\n 'Earthy',\n 'Berry',\n 'Earthy',\n 'Spicy',\n 'Sweet',\n 'Earthy',\n 'Skunk',\n 'Lemon',\n 'Sweet',\n 'Sweet',\n 'Flowery',\n 'Sweet',\n 'Berry',\n 'Earthy',\n 'Sweet',\n 'Sweet',\n 'Pine',\n 'Earthy',\n 'Lemon',\n 'Citrus',\n 'Earthy',\n 'Flowery',\n 'Earthy',\n 'Berry',\n 'Sweet',\n 'Pungent',\n 'Blueberry',\n 'Diesel',\n 'Citrus',\n 'Sweet',\n 'Blueberry',\n 'Diesel',\n 'Earthy',\n 'Earthy',\n 'Earthy',\n 'Earthy',\n 'Sweet',\n 'Pine',\n 'Earthy',\n 'Flowery',\n 'Citrus',\n 'Spicy',\n 'Blueberry',\n 'Sweet',\n 'Earthy',\n 'Diesel',\n 'Spicy',\n 'Sweet',\n 'Sweet',\n 'Sweet',\n 'Sweet',\n 'Earthy',\n 'Apple',\n 'Diesel',\n 'Sweet',\n 'Berry',\n 'Vanilla',\n 'Sweet',\n 'Earthy',\n 'Sweet',\n 'Grape',\n 'Pungent',\n 'Diesel',\n 'Earthy',\n 'Citrus',\n 'Sweet',\n 'Pungent',\n 'Citrus',\n 'Sweet',\n 'Pungent',\n 'Citrus',\n 'Diesel',\n 'Berry',\n 'Lemon',\n 'Earthy',\n 'Earthy',\n 'Diesel',\n 'Honey',\n 'Pungent',\n 'Sweet',\n 'Earthy',\n 'Citrus',\n 'Skunk',\n 'Citrus',\n 'Pungent',\n 'Tropical',\n 'Earthy',\n 'Sweet',\n 'Spicy',\n 'Menthol',\n 'Pungent',\n 'Earthy',\n 'Sweet',\n 'Diesel',\n 'Citrus',\n 'Earthy',\n 'Earthy',\n 'Earthy',\n 'Lime',\n 'Sweet',\n 'Lime',\n 'Earthy',\n 'Flowery',\n 'Citrus',\n 'Diesel',\n 'Earthy',\n 'Earthy',\n 'Earthy',\n 'Citrus',\n 'Sweet',\n 'Earthy',\n 'Citrus',\n 'Earthy',\n 'Tropical',\n 'Sweet',\n 'Earthy',\n 'Sweet',\n 'Earthy',\n 'Cheese',\n 'Spicy',\n 'Earthy',\n 'Citrus',\n 'Sweet',\n 'Cheese',\n 'Tropical',\n 'Earthy',\n 'Lemon',\n 'Strawberry',\n 'Strawberry',\n 'Lemon',\n 'Sweet',\n 'Lime',\n 'Sweet',\n 'Sweet',\n 'Spicy',\n 'Strawberry',\n 'Rose',\n 'Lemon',\n 'Sweet',\n 'Earthy',\n 'Earthy',\n 'Pine',\n 'Pungent',\n 'Skunk',\n 'Citrus',\n 'Earthy',\n 'Earthy',\n 'Citrus',\n 'Earthy',\n 'Earthy',\n 'Grape',\n 'Flowery',\n 'Diesel',\n 'Flowery',\n 'Earthy',\n 'Orange',\n 'Strawberry',\n 'Earthy',\n 'Sweet',\n 'Earthy',\n 'Citrus',\n 'Lemon',\n 'Pine',\n 'Pungent',\n 'Pine',\n 'Tar',\n 'Citrus',\n 'Sweet',\n 'Citrus',\n 'Earthy',\n 'Berry',\n 'Grape',\n 'Blueberry',\n 'Cheese',\n 'Citrus',\n 'Pine',\n 'Mango',\n 'Lemon',\n 'Sweet',\n 'Sweet',\n 'Sweet',\n 'Earthy',\n 'Sweet',\n 'Tropical',\n 'Grape',\n 'Earthy',\n 'Blueberry',\n 'Pineapple',\n 'Spicy',\n 'Earthy',\n 'Pine',\n 'Earthy',\n 'Berry',\n 'Lemon',\n 'Earthy',\n 'Earthy',\n 'Sweet',\n 'Blueberry',\n 'Earthy',\n 'Sweet',\n 'Sweet',\n 'Woody',\n 'Flowery',\n 'Pungent',\n 'Earthy',\n 'Pungent',\n 'Sweet',\n 'Berry',\n 'Spicy',\n 'Sweet',\n 'Honey',\n 'Berry',\n 'Sweet',\n 'Earthy',\n 'Earthy',\n 'Pungent',\n 'Sweet',\n 'Lime',\n 'Sweet',\n 'Berry',\n 'Skunk',\n 'Pungent',\n 'Earthy',\n 'Earthy',\n 'Sweet',\n 'Butter',\n 'Berry',\n 'Earthy',\n 'Citrus',\n 'Lime',\n 'Citrus',\n 'Diesel',\n 'Earthy',\n 'Citrus',\n 'Citrus',\n 'Sweet',\n 'Earthy',\n 'Blueberry',\n 'Earthy',\n 'Blueberry',\n 'Sweet',\n 'Spicy',\n 'Coffee',\n 'Honey',\n 'Blueberry',\n 'Grape',\n 'Sweet',\n 'Earthy',\n 'Earthy',\n 'Pungent',\n 'Earthy',\n 'Blueberry',\n 'Pine',\n 'Earthy',\n 'Pine',\n 'Chemical',\n 'Sweet',\n 'Grapefruit',\n 'Earthy',\n 'Nutty',\n 'Pine',\n 'Earthy',\n 'Pungent',\n 'Earthy',\n 'Earthy',\n 'Earthy',\n 'Earthy',\n 'Mint',\n 'Earthy',\n 'Citrus',\n 'Sweet',\n 'Pungent',\n 'Spicy',\n 'Pungent',\n 'Earthy',\n 'Earthy',\n 'Earthy',\n 'Skunk',\n 'Pine',\n 'Tropical',\n 'Sweet',\n 'Tropical',\n 'Citrus',\n 'Sweet',\n ...]"
     },
     "metadata": {},
     "execution_count": 20
    }
   ],
   "source": [
    "mylist"
   ]
  },
  {
   "cell_type": "code",
   "execution_count": 21,
   "metadata": {},
   "outputs": [],
   "source": [
    "final_list = list(dict.fromkeys(mylist))"
   ]
  },
  {
   "cell_type": "code",
   "execution_count": 22,
   "metadata": {},
   "outputs": [
    {
     "output_type": "execute_result",
     "data": {
      "text/plain": "['Pepper',\n 'Citrus',\n 'Pungent',\n 'Berry',\n 'Earthy',\n 'Lavender',\n 'Ammonia',\n 'Sweet',\n 'Lemon',\n 'Diesel',\n 'Flowery',\n 'Spicy',\n 'Lime',\n 'Blueberry',\n 'Pineapple',\n 'Pine',\n 'Cheese',\n 'Grapefruit',\n 'Tropical',\n 'Sage',\n 'Tree',\n 'Minty',\n 'Skunk',\n 'Grape',\n 'Strawberry',\n 'Orange',\n 'Mango',\n 'Woody',\n 'Butter',\n 'Tea',\n 'Menthol',\n 'Chemical',\n 'Coffee',\n 'Violet',\n 'Rose',\n 'Apple',\n 'Honey',\n 'Apricot',\n 'Tar',\n 'Peach',\n 'Pear',\n 'Vanilla',\n 'Nutty',\n 'Mint',\n 'Tobacco',\n 'Blue',\n 'Plum',\n None,\n 'Herbal',\n 'Fruit',\n 'Chestnut']"
     },
     "metadata": {},
     "execution_count": 22
    }
   ],
   "source": [
    "final_list"
   ]
  },
  {
   "cell_type": "code",
   "execution_count": 23,
   "metadata": {},
   "outputs": [
    {
     "output_type": "execute_result",
     "data": {
      "text/plain": "51"
     },
     "metadata": {},
     "execution_count": 23
    }
   ],
   "source": [
    "len(final_list)"
   ]
  },
  {
   "cell_type": "code",
   "execution_count": 25,
   "metadata": {},
   "outputs": [],
   "source": [
    "df[[0, 1, 2, 3, 4]] = df['Effects'].str.split(\",\", expand=True)"
   ]
  },
  {
   "cell_type": "code",
   "execution_count": 26,
   "metadata": {},
   "outputs": [],
   "source": [
    "elist = df[0].to_list()"
   ]
  },
  {
   "cell_type": "code",
   "execution_count": 27,
   "metadata": {},
   "outputs": [],
   "source": [
    "elist2 = df[1].to_list()"
   ]
  },
  {
   "cell_type": "code",
   "execution_count": 28,
   "metadata": {},
   "outputs": [],
   "source": [
    "elist3 = df[2].to_list()"
   ]
  },
  {
   "cell_type": "code",
   "execution_count": 29,
   "metadata": {},
   "outputs": [],
   "source": [
    "elist4 = df[3].to_list()"
   ]
  },
  {
   "cell_type": "code",
   "execution_count": 30,
   "metadata": {},
   "outputs": [],
   "source": [
    "elist5 = df[4].to_list()"
   ]
  },
  {
   "cell_type": "code",
   "execution_count": 31,
   "metadata": {},
   "outputs": [],
   "source": [
    "elist = elist + elist2 + elist3 + elist4 + elist5"
   ]
  },
  {
   "cell_type": "code",
   "execution_count": 32,
   "metadata": {},
   "outputs": [],
   "source": [
    "final_elist = list(dict.fromkeys(elist))"
   ]
  },
  {
   "cell_type": "code",
   "execution_count": 33,
   "metadata": {},
   "outputs": [
    {
     "output_type": "execute_result",
     "data": {
      "text/plain": "['Happy',\n 'Uplifted',\n 'Sleepy',\n 'Aroused',\n 'Relaxed',\n 'Creative',\n 'Euphoric',\n 'Energetic',\n 'Tingly',\n 'Talkative',\n 'Giggly',\n 'Focused',\n 'Hungry',\n None]"
     },
     "metadata": {},
     "execution_count": 33
    }
   ],
   "source": [
    "final_elist"
   ]
  },
  {
   "cell_type": "code",
   "execution_count": 36,
   "metadata": {},
   "outputs": [
    {
     "output_type": "execute_result",
     "data": {
      "text/plain": "14"
     },
     "metadata": {},
     "execution_count": 36
    }
   ],
   "source": [
    "len(final_elist)"
   ]
  },
  {
   "cell_type": "code",
   "execution_count": null,
   "metadata": {},
   "outputs": [],
   "source": []
  }
 ],
 "metadata": {
  "kernelspec": {
   "display_name": "Python 3",
   "language": "python",
   "name": "python3"
  },
  "language_info": {
   "codemirror_mode": {
    "name": "ipython",
    "version": 3
   },
   "file_extension": ".py",
   "mimetype": "text/x-python",
   "name": "python",
   "nbconvert_exporter": "python",
   "pygments_lexer": "ipython3",
   "version": "3.7.6-final"
  }
 },
 "nbformat": 4,
 "nbformat_minor": 4
}