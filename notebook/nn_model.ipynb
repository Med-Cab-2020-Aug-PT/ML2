{
  "nbformat": 4,
  "nbformat_minor": 0,
  "metadata": {
    "kernelspec": {
      "display_name": "U4-S1-NLP (Python3)",
      "language": "python",
      "name": "u4-s1-nlp"
    },
    "language_info": {
      "codemirror_mode": {
        "name": "ipython",
        "version": 3
      },
      "file_extension": ".py",
      "mimetype": "text/x-python",
      "name": "python",
      "nbconvert_exporter": "python",
      "pygments_lexer": "ipython3",
      "version": "3.7.0"
    },
    "colab": {
      "name": "med_cabinet_NLP_model copy.ipynb",
      "provenance": []
    }
  },
  "cells": [
    {
      "cell_type": "markdown",
      "metadata": {
        "id": "MnC7L0IO_tat",
        "colab_type": "text"
      },
      "source": [
        "## **Imports**"
      ]
    },
    {
      "cell_type": "code",
      "metadata": {
        "id": "4uHZJrXU_ta0",
        "colab_type": "code",
        "colab": {}
      },
      "source": [
        "\"\"\" Import Statements \"\"\"\n",
        "\n",
        "# Classics\n",
        "import os\n",
        "import pandas as pd\n",
        "import numpy as np\n",
        "import seaborn as sns\n",
        "import matplotlib.pyplot as plt\n",
        "import squarify\n",
        "\n",
        "import re\n",
        "import spacy\n",
        "from spacy.tokenizer import Tokenizer\n",
        "from collections import Counter\n",
        "\n",
        "from sklearn.feature_extraction.text import TfidfVectorizer\n",
        "from sklearn.neighbors import NearestNeighbors"
      ],
      "execution_count": null,
      "outputs": []
    },
    {
      "cell_type": "code",
      "metadata": {
        "id": "y20Irh0b_tbF",
        "colab_type": "code",
        "colab": {}
      },
      "source": [
        "df = pd.read_csv('../app/data/csv/cannabis.csv')\n",
        "\n",
        "#change from combined_cannabis.csv to cannabis.csv"
      ],
      "execution_count": null,
      "outputs": []
    },
    {
      "cell_type": "code",
      "metadata": {
        "id": "KIH5eCW6_tbU",
        "colab_type": "code",
        "colab": {},
        "outputId": "d0f51e23-8256-4174-e0e6-f1e9ec7cd63f"
      },
      "source": [
        "print('Shape:', df.shape)\n",
        "df.head()"
      ],
      "execution_count": null,
      "outputs": [
        {
          "output_type": "stream",
          "text": [
            "Shape: (2155, 8)\n"
          ],
          "name": "stdout"
        },
        {
          "output_type": "execute_result",
          "data": {
            "text/html": [
              "<div>\n",
              "<style scoped>\n",
              "    .dataframe tbody tr th:only-of-type {\n",
              "        vertical-align: middle;\n",
              "    }\n",
              "\n",
              "    .dataframe tbody tr th {\n",
              "        vertical-align: top;\n",
              "    }\n",
              "\n",
              "    .dataframe thead th {\n",
              "        text-align: right;\n",
              "    }\n",
              "</style>\n",
              "<table border=\"1\" class=\"dataframe\">\n",
              "  <thead>\n",
              "    <tr style=\"text-align: right;\">\n",
              "      <th></th>\n",
              "      <th>_id</th>\n",
              "      <th>Name</th>\n",
              "      <th>Type</th>\n",
              "      <th>Rating</th>\n",
              "      <th>Effects</th>\n",
              "      <th>Description</th>\n",
              "      <th>Flavors</th>\n",
              "      <th>Nearest</th>\n",
              "    </tr>\n",
              "  </thead>\n",
              "  <tbody>\n",
              "    <tr>\n",
              "      <th>0</th>\n",
              "      <td>0</td>\n",
              "      <td>Kelly Hill Gold</td>\n",
              "      <td>Indica</td>\n",
              "      <td>5.0</td>\n",
              "      <td>Happy,Energetic,Euphoric,Talkative,Aroused</td>\n",
              "      <td>Cultivated by Joseph Arthur Botanicals in Colo...</td>\n",
              "      <td>Pepper,Earthy,Coffee</td>\n",
              "      <td>992,897,439,184,1877</td>\n",
              "    </tr>\n",
              "    <tr>\n",
              "      <th>1</th>\n",
              "      <td>1</td>\n",
              "      <td>Spyder Mon</td>\n",
              "      <td>Hybrid</td>\n",
              "      <td>5.0</td>\n",
              "      <td>Uplifted,Creative,Focused,Happy,Relaxed</td>\n",
              "      <td>Spyder Mon is an uplifting CBD strain with a g...</td>\n",
              "      <td>Citrus,Earthy,Sweet</td>\n",
              "      <td>218,157,1627,223,742</td>\n",
              "    </tr>\n",
              "    <tr>\n",
              "      <th>2</th>\n",
              "      <td>2</td>\n",
              "      <td>Mochi</td>\n",
              "      <td>Hybrid</td>\n",
              "      <td>5.0</td>\n",
              "      <td>Sleepy,Happy,Hungry,Relaxed,Tingly</td>\n",
              "      <td>Mochi by Sherbinski is another strain that lea...</td>\n",
              "      <td>Pungent,Minty,Flowery</td>\n",
              "      <td>614,457,208,705,130</td>\n",
              "    </tr>\n",
              "    <tr>\n",
              "      <th>3</th>\n",
              "      <td>3</td>\n",
              "      <td>Molokai Purpz</td>\n",
              "      <td>Indica</td>\n",
              "      <td>5.0</td>\n",
              "      <td>Aroused,Creative,Euphoric,Relaxed,Sleepy</td>\n",
              "      <td>Moloka'i Purpz is a luscious Hawaiian landrace...</td>\n",
              "      <td>Berry,Grape,Sweet</td>\n",
              "      <td>1478,562,1063,50,390</td>\n",
              "    </tr>\n",
              "    <tr>\n",
              "      <th>4</th>\n",
              "      <td>4</td>\n",
              "      <td>Monolith</td>\n",
              "      <td>Indica</td>\n",
              "      <td>5.0</td>\n",
              "      <td>Relaxed,Sleepy,Tingly,Euphoric,Focused</td>\n",
              "      <td>Monolith is an indica-dominant strain with Afg...</td>\n",
              "      <td>Pungent,Earthy,Pine</td>\n",
              "      <td>1397,862,1094,214,141</td>\n",
              "    </tr>\n",
              "  </tbody>\n",
              "</table>\n",
              "</div>"
            ],
            "text/plain": [
              "   _id             Name    Type  Rating  \\\n",
              "0    0  Kelly Hill Gold  Indica     5.0   \n",
              "1    1       Spyder Mon  Hybrid     5.0   \n",
              "2    2            Mochi  Hybrid     5.0   \n",
              "3    3    Molokai Purpz  Indica     5.0   \n",
              "4    4         Monolith  Indica     5.0   \n",
              "\n",
              "                                      Effects  \\\n",
              "0  Happy,Energetic,Euphoric,Talkative,Aroused   \n",
              "1     Uplifted,Creative,Focused,Happy,Relaxed   \n",
              "2          Sleepy,Happy,Hungry,Relaxed,Tingly   \n",
              "3    Aroused,Creative,Euphoric,Relaxed,Sleepy   \n",
              "4      Relaxed,Sleepy,Tingly,Euphoric,Focused   \n",
              "\n",
              "                                         Description                Flavors  \\\n",
              "0  Cultivated by Joseph Arthur Botanicals in Colo...   Pepper,Earthy,Coffee   \n",
              "1  Spyder Mon is an uplifting CBD strain with a g...    Citrus,Earthy,Sweet   \n",
              "2  Mochi by Sherbinski is another strain that lea...  Pungent,Minty,Flowery   \n",
              "3  Moloka'i Purpz is a luscious Hawaiian landrace...      Berry,Grape,Sweet   \n",
              "4  Monolith is an indica-dominant strain with Afg...    Pungent,Earthy,Pine   \n",
              "\n",
              "                 Nearest  \n",
              "0   992,897,439,184,1877  \n",
              "1   218,157,1627,223,742  \n",
              "2    614,457,208,705,130  \n",
              "3   1478,562,1063,50,390  \n",
              "4  1397,862,1094,214,141  "
            ]
          },
          "metadata": {
            "tags": []
          },
          "execution_count": 3
        }
      ]
    },
    {
      "cell_type": "markdown",
      "metadata": {
        "id": "AdhsVM4l_tbe",
        "colab_type": "text"
      },
      "source": [
        "## **Data Cleaning**"
      ]
    },
    {
      "cell_type": "code",
      "metadata": {
        "id": "CNEJvAee_tbf",
        "colab_type": "code",
        "colab": {},
        "outputId": "384cd0d5-2705-494d-88ab-4081d2ff6329"
      },
      "source": [
        "df.isnull().sum()"
      ],
      "execution_count": null,
      "outputs": [
        {
          "output_type": "execute_result",
          "data": {
            "text/plain": [
              "_id            0\n",
              "Name           0\n",
              "Type           0\n",
              "Rating         0\n",
              "Effects        0\n",
              "Description    0\n",
              "Flavors        0\n",
              "Nearest        0\n",
              "dtype: int64"
            ]
          },
          "metadata": {
            "tags": []
          },
          "execution_count": 4
        }
      ]
    },
    {
      "cell_type": "markdown",
      "metadata": {
        "id": "o7eZ8v9Q_tbp",
        "colab_type": "text"
      },
      "source": [
        "## **Tokenizing**"
      ]
    },
    {
      "cell_type": "markdown",
      "metadata": {
        "id": "Ghu1JOz3_tbr",
        "colab_type": "text"
      },
      "source": [
        "### Creating a corpus"
      ]
    },
    {
      "cell_type": "code",
      "metadata": {
        "id": "RLoGGjgK_tbs",
        "colab_type": "code",
        "colab": {}
      },
      "source": [
        "#Combining features to create a strain profile\n",
        "df['strain_profile'] = df['Type'] + ',' + df['Effects'] + ',' + df['Description']"
      ],
      "execution_count": null,
      "outputs": []
    },
    {
      "cell_type": "code",
      "metadata": {
        "id": "egY-P5jt_tb6",
        "colab_type": "code",
        "colab": {}
      },
      "source": [
        "#Doing some manual cleaning \n",
        "\n",
        "#Lowercase text\n",
        "df['strain_profile'] = df['strain_profile'].apply(lambda x: x.lower())\n",
        "\n",
        "#Remove symbols\n",
        "df['strain_profile'] = df['strain_profile'].apply(lambda x: re.sub('[^a-zA-Z 0-9]', ' ', x))"
      ],
      "execution_count": null,
      "outputs": []
    },
    {
      "cell_type": "code",
      "metadata": {
        "id": "sBqM8FdF_tcI",
        "colab_type": "code",
        "colab": {},
        "outputId": "abea142d-98ef-42e3-90bc-1702a16287d4"
      },
      "source": [
        "df.head()"
      ],
      "execution_count": null,
      "outputs": [
        {
          "output_type": "execute_result",
          "data": {
            "text/html": [
              "<div>\n",
              "<style scoped>\n",
              "    .dataframe tbody tr th:only-of-type {\n",
              "        vertical-align: middle;\n",
              "    }\n",
              "\n",
              "    .dataframe tbody tr th {\n",
              "        vertical-align: top;\n",
              "    }\n",
              "\n",
              "    .dataframe thead th {\n",
              "        text-align: right;\n",
              "    }\n",
              "</style>\n",
              "<table border=\"1\" class=\"dataframe\">\n",
              "  <thead>\n",
              "    <tr style=\"text-align: right;\">\n",
              "      <th></th>\n",
              "      <th>_id</th>\n",
              "      <th>Name</th>\n",
              "      <th>Type</th>\n",
              "      <th>Rating</th>\n",
              "      <th>Effects</th>\n",
              "      <th>Description</th>\n",
              "      <th>Flavors</th>\n",
              "      <th>Nearest</th>\n",
              "      <th>strain_profile</th>\n",
              "    </tr>\n",
              "  </thead>\n",
              "  <tbody>\n",
              "    <tr>\n",
              "      <th>0</th>\n",
              "      <td>0</td>\n",
              "      <td>Kelly Hill Gold</td>\n",
              "      <td>Indica</td>\n",
              "      <td>5.0</td>\n",
              "      <td>Happy,Energetic,Euphoric,Talkative,Aroused</td>\n",
              "      <td>Cultivated by Joseph Arthur Botanicals in Colo...</td>\n",
              "      <td>Pepper,Earthy,Coffee</td>\n",
              "      <td>992,897,439,184,1877</td>\n",
              "      <td>indica happy energetic euphoric talkative arou...</td>\n",
              "    </tr>\n",
              "    <tr>\n",
              "      <th>1</th>\n",
              "      <td>1</td>\n",
              "      <td>Spyder Mon</td>\n",
              "      <td>Hybrid</td>\n",
              "      <td>5.0</td>\n",
              "      <td>Uplifted,Creative,Focused,Happy,Relaxed</td>\n",
              "      <td>Spyder Mon is an uplifting CBD strain with a g...</td>\n",
              "      <td>Citrus,Earthy,Sweet</td>\n",
              "      <td>218,157,1627,223,742</td>\n",
              "      <td>hybrid uplifted creative focused happy relaxed...</td>\n",
              "    </tr>\n",
              "    <tr>\n",
              "      <th>2</th>\n",
              "      <td>2</td>\n",
              "      <td>Mochi</td>\n",
              "      <td>Hybrid</td>\n",
              "      <td>5.0</td>\n",
              "      <td>Sleepy,Happy,Hungry,Relaxed,Tingly</td>\n",
              "      <td>Mochi by Sherbinski is another strain that lea...</td>\n",
              "      <td>Pungent,Minty,Flowery</td>\n",
              "      <td>614,457,208,705,130</td>\n",
              "      <td>hybrid sleepy happy hungry relaxed tingly moch...</td>\n",
              "    </tr>\n",
              "    <tr>\n",
              "      <th>3</th>\n",
              "      <td>3</td>\n",
              "      <td>Molokai Purpz</td>\n",
              "      <td>Indica</td>\n",
              "      <td>5.0</td>\n",
              "      <td>Aroused,Creative,Euphoric,Relaxed,Sleepy</td>\n",
              "      <td>Moloka'i Purpz is a luscious Hawaiian landrace...</td>\n",
              "      <td>Berry,Grape,Sweet</td>\n",
              "      <td>1478,562,1063,50,390</td>\n",
              "      <td>indica aroused creative euphoric relaxed sleep...</td>\n",
              "    </tr>\n",
              "    <tr>\n",
              "      <th>4</th>\n",
              "      <td>4</td>\n",
              "      <td>Monolith</td>\n",
              "      <td>Indica</td>\n",
              "      <td>5.0</td>\n",
              "      <td>Relaxed,Sleepy,Tingly,Euphoric,Focused</td>\n",
              "      <td>Monolith is an indica-dominant strain with Afg...</td>\n",
              "      <td>Pungent,Earthy,Pine</td>\n",
              "      <td>1397,862,1094,214,141</td>\n",
              "      <td>indica relaxed sleepy tingly euphoric focused ...</td>\n",
              "    </tr>\n",
              "  </tbody>\n",
              "</table>\n",
              "</div>"
            ],
            "text/plain": [
              "   _id             Name    Type  Rating  \\\n",
              "0    0  Kelly Hill Gold  Indica     5.0   \n",
              "1    1       Spyder Mon  Hybrid     5.0   \n",
              "2    2            Mochi  Hybrid     5.0   \n",
              "3    3    Molokai Purpz  Indica     5.0   \n",
              "4    4         Monolith  Indica     5.0   \n",
              "\n",
              "                                      Effects  \\\n",
              "0  Happy,Energetic,Euphoric,Talkative,Aroused   \n",
              "1     Uplifted,Creative,Focused,Happy,Relaxed   \n",
              "2          Sleepy,Happy,Hungry,Relaxed,Tingly   \n",
              "3    Aroused,Creative,Euphoric,Relaxed,Sleepy   \n",
              "4      Relaxed,Sleepy,Tingly,Euphoric,Focused   \n",
              "\n",
              "                                         Description                Flavors  \\\n",
              "0  Cultivated by Joseph Arthur Botanicals in Colo...   Pepper,Earthy,Coffee   \n",
              "1  Spyder Mon is an uplifting CBD strain with a g...    Citrus,Earthy,Sweet   \n",
              "2  Mochi by Sherbinski is another strain that lea...  Pungent,Minty,Flowery   \n",
              "3  Moloka'i Purpz is a luscious Hawaiian landrace...      Berry,Grape,Sweet   \n",
              "4  Monolith is an indica-dominant strain with Afg...    Pungent,Earthy,Pine   \n",
              "\n",
              "                 Nearest                                     strain_profile  \n",
              "0   992,897,439,184,1877  indica happy energetic euphoric talkative arou...  \n",
              "1   218,157,1627,223,742  hybrid uplifted creative focused happy relaxed...  \n",
              "2    614,457,208,705,130  hybrid sleepy happy hungry relaxed tingly moch...  \n",
              "3   1478,562,1063,50,390  indica aroused creative euphoric relaxed sleep...  \n",
              "4  1397,862,1094,214,141  indica relaxed sleepy tingly euphoric focused ...  "
            ]
          },
          "metadata": {
            "tags": []
          },
          "execution_count": 7
        }
      ]
    },
    {
      "cell_type": "markdown",
      "metadata": {
        "id": "ONGleDfM_tce",
        "colab_type": "text"
      },
      "source": [
        "### spaCy s"
      ]
    },
    {
      "cell_type": "code",
      "metadata": {
        "id": "USDbkk3r_tcg",
        "colab_type": "code",
        "colab": {}
      },
      "source": [
        "nlp = spacy.load(\"en_core_web_lg\")"
      ],
      "execution_count": null,
      "outputs": []
    },
    {
      "cell_type": "code",
      "metadata": {
        "id": "Vjrw0G-W_tcw",
        "colab_type": "code",
        "colab": {}
      },
      "source": [
        "STOP_WORDS = nlp.Defaults.stop_words.union({\"$\", '-', '', ' ',\n",
        "                                            'bred','breed', 'breeds','call', 'calls',\n",
        "                                            'combine', 'combines','consumer', 'contains','containing',\n",
        "                                            \"don't\", 'effect', 'effects','especially','explanations',\n",
        "                                            'flavor', 'flavors','flower','give', 'gives','got',  'high',\n",
        "                                            'i', \"i'm\", \"i've\",'including','it.', \"it's\", \n",
        "                                            'like', 'match', 'matches','making',\n",
        "                                            'offer', 'offers','pack', 'packs','price', 'probably',\n",
        "                                            'produce', 'produces', 'really',\n",
        "                                            'refers', 'report', 'reports', \"'s\", 's',\n",
        "                                            'seed', 'seeds','showing', \n",
        "                                            'smell','start', 'started', 'stem', 'stems',\n",
        "                                            'strain', 'strains','supposedly',\n",
        "                                            'technique', 'techniques','tend', 'tends',\n",
        "                                            'unavailable', 'unkown', 'user', 'users', 'utlizing',\n",
        "                                            'weed', 'week', None})"
      ],
      "execution_count": null,
      "outputs": []
    },
    {
      "cell_type": "code",
      "metadata": {
        "id": "HiXcAz7A_tdB",
        "colab_type": "code",
        "colab": {}
      },
      "source": [
        "def tokenize(text):\n",
        "  doc = nlp(text) #casting as text\n",
        "  return [token.lemma_.strip() for token in doc if not token.is_stop and not token.is_punct]"
      ],
      "execution_count": null,
      "outputs": []
    },
    {
      "cell_type": "code",
      "metadata": {
        "id": "-1iVpq8b_tdZ",
        "colab_type": "code",
        "colab": {}
      },
      "source": [
        "df['tokens'] = df['strain_profile'].apply(tokenize)"
      ],
      "execution_count": null,
      "outputs": []
    },
    {
      "cell_type": "code",
      "metadata": {
        "id": "gCNCSkCq_tdq",
        "colab_type": "code",
        "colab": {},
        "outputId": "0094563c-22d0-4367-dd2f-a82e61218962"
      },
      "source": [
        "df['tokens']"
      ],
      "execution_count": null,
      "outputs": [
        {
          "output_type": "execute_result",
          "data": {
            "text/plain": [
              "0       [indica, happy, energetic, euphoric, talkative...\n",
              "1       [hybrid, uplifted, creative, focus, happy, rel...\n",
              "2       [hybrid, sleepy, happy, hungry, relaxed, tingl...\n",
              "3       [indica, arouse, creative, euphoric, relaxed, ...\n",
              "4       [indica, relax, sleepy, tingly, euphoric, focu...\n",
              "                              ...                        \n",
              "2150    [indica, uplifted, focus, sleepy, relaxed, tin...\n",
              "2151    [hybrid, happy, white, strawberry, flavorful, ...\n",
              "2152    [hybrid, talkative, happy, energetic, tingly, ...\n",
              "2153    [hybrid, relax, focus, uplifted, creative, hap...\n",
              "2154    [sativa, giggly, uplifted, creative, happy, sl...\n",
              "Name: tokens, Length: 2155, dtype: object"
            ]
          },
          "metadata": {
            "tags": []
          },
          "execution_count": 12
        }
      ]
    },
    {
      "cell_type": "code",
      "metadata": {
        "id": "XUH22oHY_tdw",
        "colab_type": "code",
        "colab": {},
        "outputId": "e2b6960c-b175-45cd-d8a9-4972110e0591"
      },
      "source": [
        "# Gut check\n",
        "\n",
        "# Object from Base Python\n",
        "\n",
        "word_counts = Counter()\n",
        "\n",
        "# Update it based on a split of each of our documents\n",
        "df[\"tokens\"].apply(lambda x: word_counts.update(x))\n",
        "\n",
        "# Print out the 20 most common words\n",
        "word_counts.most_common(20)"
      ],
      "execution_count": null,
      "outputs": [
        {
          "output_type": "execute_result",
          "data": {
            "text/plain": [
              "[('', 16191),\n",
              " ('strain', 2759),\n",
              " ('hybrid', 2331),\n",
              " ('indica', 2003),\n",
              " ('happy', 1922),\n",
              " ('euphoric', 1745),\n",
              " ('effect', 1475),\n",
              " ('sativa', 1469),\n",
              " ('uplifted', 1358),\n",
              " ('s', 1271),\n",
              " ('relaxed', 1164),\n",
              " ('cross', 1031),\n",
              " ('og', 993),\n",
              " ('kush', 987),\n",
              " ('aroma', 919),\n",
              " ('dominant', 892),\n",
              " ('relax', 875),\n",
              " ('creative', 844),\n",
              " ('sweet', 787),\n",
              " ('bud', 737)]"
            ]
          },
          "metadata": {
            "tags": []
          },
          "execution_count": 13
        }
      ]
    },
    {
      "cell_type": "code",
      "metadata": {
        "id": "hUeLZs_B_td2",
        "colab_type": "code",
        "colab": {}
      },
      "source": [
        "def count(docs):\n",
        "        word_counts = Counter()\n",
        "        appears_in = Counter()\n",
        "        total_docs = len(docs)\n",
        "\n",
        "        for doc in docs:\n",
        "            word_counts.update(doc)\n",
        "            appears_in.update(set(doc))\n",
        "\n",
        "        temp = zip(word_counts.keys(), word_counts.values())\n",
        "        wc = pd.DataFrame(temp, columns = ['word', 'count'])\n",
        "\n",
        "        wc['rank'] = wc['count'].rank(method='first', ascending=False)\n",
        "        total = wc['count'].sum()\n",
        "\n",
        "        wc['pct_total'] = wc['count'].apply(lambda x: x / total)\n",
        "        \n",
        "        wc = wc.sort_values(by='rank')\n",
        "        wc['cul_pct_total'] = wc['pct_total'].cumsum()\n",
        "\n",
        "        t2 = zip(appears_in.keys(), appears_in.values())\n",
        "        ac = pd.DataFrame(t2, columns=['word', 'appears_in'])\n",
        "        wc = ac.merge(wc, on='word')\n",
        "\n",
        "        wc['appears_in_pct'] = wc['appears_in'].apply(lambda x: x / total_docs)\n",
        "        \n",
        "        return wc.sort_values(by='rank')"
      ],
      "execution_count": null,
      "outputs": []
    },
    {
      "cell_type": "code",
      "metadata": {
        "id": "Ss4N9joq_td_",
        "colab_type": "code",
        "colab": {},
        "outputId": "32f3c057-ee8d-4f6b-a9bb-a14000b4b847"
      },
      "source": [
        "wc = count(df[\"tokens\"])\n",
        "wc.head(50)"
      ],
      "execution_count": null,
      "outputs": [
        {
          "output_type": "execute_result",
          "data": {
            "text/html": [
              "<div>\n",
              "<style scoped>\n",
              "    .dataframe tbody tr th:only-of-type {\n",
              "        vertical-align: middle;\n",
              "    }\n",
              "\n",
              "    .dataframe tbody tr th {\n",
              "        vertical-align: top;\n",
              "    }\n",
              "\n",
              "    .dataframe thead th {\n",
              "        text-align: right;\n",
              "    }\n",
              "</style>\n",
              "<table border=\"1\" class=\"dataframe\">\n",
              "  <thead>\n",
              "    <tr style=\"text-align: right;\">\n",
              "      <th></th>\n",
              "      <th>word</th>\n",
              "      <th>appears_in</th>\n",
              "      <th>count</th>\n",
              "      <th>rank</th>\n",
              "      <th>pct_total</th>\n",
              "      <th>cul_pct_total</th>\n",
              "      <th>appears_in_pct</th>\n",
              "    </tr>\n",
              "  </thead>\n",
              "  <tbody>\n",
              "    <tr>\n",
              "      <th>0</th>\n",
              "      <td></td>\n",
              "      <td>2133</td>\n",
              "      <td>16191</td>\n",
              "      <td>1.0</td>\n",
              "      <td>0.123846</td>\n",
              "      <td>0.123846</td>\n",
              "      <td>0.989791</td>\n",
              "    </tr>\n",
              "    <tr>\n",
              "      <th>6</th>\n",
              "      <td>strain</td>\n",
              "      <td>1694</td>\n",
              "      <td>2759</td>\n",
              "      <td>2.0</td>\n",
              "      <td>0.021104</td>\n",
              "      <td>0.144950</td>\n",
              "      <td>0.786079</td>\n",
              "    </tr>\n",
              "    <tr>\n",
              "      <th>99</th>\n",
              "      <td>hybrid</td>\n",
              "      <td>1309</td>\n",
              "      <td>2331</td>\n",
              "      <td>3.0</td>\n",
              "      <td>0.017830</td>\n",
              "      <td>0.162780</td>\n",
              "      <td>0.607425</td>\n",
              "    </tr>\n",
              "    <tr>\n",
              "      <th>13</th>\n",
              "      <td>indica</td>\n",
              "      <td>1088</td>\n",
              "      <td>2003</td>\n",
              "      <td>4.0</td>\n",
              "      <td>0.015321</td>\n",
              "      <td>0.178101</td>\n",
              "      <td>0.504872</td>\n",
              "    </tr>\n",
              "    <tr>\n",
              "      <th>34</th>\n",
              "      <td>happy</td>\n",
              "      <td>1821</td>\n",
              "      <td>1922</td>\n",
              "      <td>5.0</td>\n",
              "      <td>0.014701</td>\n",
              "      <td>0.192802</td>\n",
              "      <td>0.845012</td>\n",
              "    </tr>\n",
              "    <tr>\n",
              "      <th>33</th>\n",
              "      <td>euphoric</td>\n",
              "      <td>1609</td>\n",
              "      <td>1745</td>\n",
              "      <td>6.0</td>\n",
              "      <td>0.013348</td>\n",
              "      <td>0.206150</td>\n",
              "      <td>0.746636</td>\n",
              "    </tr>\n",
              "    <tr>\n",
              "      <th>1</th>\n",
              "      <td>effect</td>\n",
              "      <td>1217</td>\n",
              "      <td>1475</td>\n",
              "      <td>7.0</td>\n",
              "      <td>0.011282</td>\n",
              "      <td>0.217432</td>\n",
              "      <td>0.564733</td>\n",
              "    </tr>\n",
              "    <tr>\n",
              "      <th>272</th>\n",
              "      <td>sativa</td>\n",
              "      <td>838</td>\n",
              "      <td>1469</td>\n",
              "      <td>8.0</td>\n",
              "      <td>0.011236</td>\n",
              "      <td>0.228669</td>\n",
              "      <td>0.388863</td>\n",
              "    </tr>\n",
              "    <tr>\n",
              "      <th>92</th>\n",
              "      <td>uplifted</td>\n",
              "      <td>1342</td>\n",
              "      <td>1358</td>\n",
              "      <td>9.0</td>\n",
              "      <td>0.010387</td>\n",
              "      <td>0.239056</td>\n",
              "      <td>0.622738</td>\n",
              "    </tr>\n",
              "    <tr>\n",
              "      <th>58</th>\n",
              "      <td>s</td>\n",
              "      <td>895</td>\n",
              "      <td>1271</td>\n",
              "      <td>10.0</td>\n",
              "      <td>0.009722</td>\n",
              "      <td>0.248778</td>\n",
              "      <td>0.415313</td>\n",
              "    </tr>\n",
              "    <tr>\n",
              "      <th>43</th>\n",
              "      <td>relaxed</td>\n",
              "      <td>1124</td>\n",
              "      <td>1164</td>\n",
              "      <td>11.0</td>\n",
              "      <td>0.008904</td>\n",
              "      <td>0.257682</td>\n",
              "      <td>0.521578</td>\n",
              "    </tr>\n",
              "    <tr>\n",
              "      <th>35</th>\n",
              "      <td>cross</td>\n",
              "      <td>972</td>\n",
              "      <td>1031</td>\n",
              "      <td>12.0</td>\n",
              "      <td>0.007886</td>\n",
              "      <td>0.265568</td>\n",
              "      <td>0.451044</td>\n",
              "    </tr>\n",
              "    <tr>\n",
              "      <th>216</th>\n",
              "      <td>og</td>\n",
              "      <td>455</td>\n",
              "      <td>993</td>\n",
              "      <td>13.0</td>\n",
              "      <td>0.007596</td>\n",
              "      <td>0.273163</td>\n",
              "      <td>0.211137</td>\n",
              "    </tr>\n",
              "    <tr>\n",
              "      <th>365</th>\n",
              "      <td>kush</td>\n",
              "      <td>535</td>\n",
              "      <td>987</td>\n",
              "      <td>14.0</td>\n",
              "      <td>0.007550</td>\n",
              "      <td>0.280713</td>\n",
              "      <td>0.248260</td>\n",
              "    </tr>\n",
              "    <tr>\n",
              "      <th>71</th>\n",
              "      <td>aroma</td>\n",
              "      <td>882</td>\n",
              "      <td>919</td>\n",
              "      <td>15.0</td>\n",
              "      <td>0.007029</td>\n",
              "      <td>0.287742</td>\n",
              "      <td>0.409281</td>\n",
              "    </tr>\n",
              "    <tr>\n",
              "      <th>17</th>\n",
              "      <td>dominant</td>\n",
              "      <td>862</td>\n",
              "      <td>892</td>\n",
              "      <td>16.0</td>\n",
              "      <td>0.006823</td>\n",
              "      <td>0.294565</td>\n",
              "      <td>0.400000</td>\n",
              "    </tr>\n",
              "    <tr>\n",
              "      <th>177</th>\n",
              "      <td>relax</td>\n",
              "      <td>770</td>\n",
              "      <td>875</td>\n",
              "      <td>17.0</td>\n",
              "      <td>0.006693</td>\n",
              "      <td>0.301258</td>\n",
              "      <td>0.357309</td>\n",
              "    </tr>\n",
              "    <tr>\n",
              "      <th>95</th>\n",
              "      <td>creative</td>\n",
              "      <td>778</td>\n",
              "      <td>844</td>\n",
              "      <td>18.0</td>\n",
              "      <td>0.006456</td>\n",
              "      <td>0.307714</td>\n",
              "      <td>0.361021</td>\n",
              "    </tr>\n",
              "    <tr>\n",
              "      <th>162</th>\n",
              "      <td>sweet</td>\n",
              "      <td>706</td>\n",
              "      <td>787</td>\n",
              "      <td>19.0</td>\n",
              "      <td>0.006020</td>\n",
              "      <td>0.313734</td>\n",
              "      <td>0.327610</td>\n",
              "    </tr>\n",
              "    <tr>\n",
              "      <th>20</th>\n",
              "      <td>bud</td>\n",
              "      <td>637</td>\n",
              "      <td>737</td>\n",
              "      <td>20.0</td>\n",
              "      <td>0.005637</td>\n",
              "      <td>0.319371</td>\n",
              "      <td>0.295592</td>\n",
              "    </tr>\n",
              "    <tr>\n",
              "      <th>106</th>\n",
              "      <td>sleepy</td>\n",
              "      <td>716</td>\n",
              "      <td>734</td>\n",
              "      <td>21.0</td>\n",
              "      <td>0.005614</td>\n",
              "      <td>0.324986</td>\n",
              "      <td>0.332251</td>\n",
              "    </tr>\n",
              "    <tr>\n",
              "      <th>115</th>\n",
              "      <td>flavor</td>\n",
              "      <td>637</td>\n",
              "      <td>701</td>\n",
              "      <td>22.0</td>\n",
              "      <td>0.005362</td>\n",
              "      <td>0.330348</td>\n",
              "      <td>0.295592</td>\n",
              "    </tr>\n",
              "    <tr>\n",
              "      <th>12</th>\n",
              "      <td>energetic</td>\n",
              "      <td>644</td>\n",
              "      <td>697</td>\n",
              "      <td>23.0</td>\n",
              "      <td>0.005331</td>\n",
              "      <td>0.335679</td>\n",
              "      <td>0.298840</td>\n",
              "    </tr>\n",
              "    <tr>\n",
              "      <th>85</th>\n",
              "      <td>body</td>\n",
              "      <td>643</td>\n",
              "      <td>695</td>\n",
              "      <td>24.0</td>\n",
              "      <td>0.005316</td>\n",
              "      <td>0.340995</td>\n",
              "      <td>0.298376</td>\n",
              "    </tr>\n",
              "    <tr>\n",
              "      <th>258</th>\n",
              "      <td>high</td>\n",
              "      <td>538</td>\n",
              "      <td>653</td>\n",
              "      <td>25.0</td>\n",
              "      <td>0.004995</td>\n",
              "      <td>0.345990</td>\n",
              "      <td>0.249652</td>\n",
              "    </tr>\n",
              "    <tr>\n",
              "      <th>325</th>\n",
              "      <td>seed</td>\n",
              "      <td>538</td>\n",
              "      <td>602</td>\n",
              "      <td>26.0</td>\n",
              "      <td>0.004605</td>\n",
              "      <td>0.350595</td>\n",
              "      <td>0.249652</td>\n",
              "    </tr>\n",
              "    <tr>\n",
              "      <th>334</th>\n",
              "      <td>flower</td>\n",
              "      <td>532</td>\n",
              "      <td>602</td>\n",
              "      <td>27.0</td>\n",
              "      <td>0.004605</td>\n",
              "      <td>0.355199</td>\n",
              "      <td>0.246868</td>\n",
              "    </tr>\n",
              "    <tr>\n",
              "      <th>94</th>\n",
              "      <td>focus</td>\n",
              "      <td>511</td>\n",
              "      <td>546</td>\n",
              "      <td>28.0</td>\n",
              "      <td>0.004176</td>\n",
              "      <td>0.359376</td>\n",
              "      <td>0.237123</td>\n",
              "    </tr>\n",
              "    <tr>\n",
              "      <th>77</th>\n",
              "      <td>pain</td>\n",
              "      <td>530</td>\n",
              "      <td>542</td>\n",
              "      <td>29.0</td>\n",
              "      <td>0.004146</td>\n",
              "      <td>0.363522</td>\n",
              "      <td>0.245940</td>\n",
              "    </tr>\n",
              "    <tr>\n",
              "      <th>101</th>\n",
              "      <td>purple</td>\n",
              "      <td>320</td>\n",
              "      <td>540</td>\n",
              "      <td>30.0</td>\n",
              "      <td>0.004130</td>\n",
              "      <td>0.367652</td>\n",
              "      <td>0.148492</td>\n",
              "    </tr>\n",
              "    <tr>\n",
              "      <th>332</th>\n",
              "      <td>breed</td>\n",
              "      <td>474</td>\n",
              "      <td>493</td>\n",
              "      <td>31.0</td>\n",
              "      <td>0.003771</td>\n",
              "      <td>0.371423</td>\n",
              "      <td>0.219954</td>\n",
              "    </tr>\n",
              "    <tr>\n",
              "      <th>1138</th>\n",
              "      <td>sour</td>\n",
              "      <td>287</td>\n",
              "      <td>469</td>\n",
              "      <td>32.0</td>\n",
              "      <td>0.003587</td>\n",
              "      <td>0.375011</td>\n",
              "      <td>0.133179</td>\n",
              "    </tr>\n",
              "    <tr>\n",
              "      <th>243</th>\n",
              "      <td>genetic</td>\n",
              "      <td>413</td>\n",
              "      <td>467</td>\n",
              "      <td>33.0</td>\n",
              "      <td>0.003572</td>\n",
              "      <td>0.378583</td>\n",
              "      <td>0.191647</td>\n",
              "    </tr>\n",
              "    <tr>\n",
              "      <th>113</th>\n",
              "      <td>hungry</td>\n",
              "      <td>449</td>\n",
              "      <td>451</td>\n",
              "      <td>34.0</td>\n",
              "      <td>0.003450</td>\n",
              "      <td>0.382032</td>\n",
              "      <td>0.208353</td>\n",
              "    </tr>\n",
              "    <tr>\n",
              "      <th>271</th>\n",
              "      <td>haze</td>\n",
              "      <td>228</td>\n",
              "      <td>448</td>\n",
              "      <td>35.0</td>\n",
              "      <td>0.003427</td>\n",
              "      <td>0.385459</td>\n",
              "      <td>0.105800</td>\n",
              "    </tr>\n",
              "    <tr>\n",
              "      <th>294</th>\n",
              "      <td>cannabis</td>\n",
              "      <td>412</td>\n",
              "      <td>444</td>\n",
              "      <td>36.0</td>\n",
              "      <td>0.003396</td>\n",
              "      <td>0.388855</td>\n",
              "      <td>0.191183</td>\n",
              "    </tr>\n",
              "    <tr>\n",
              "      <th>221</th>\n",
              "      <td>plant</td>\n",
              "      <td>348</td>\n",
              "      <td>424</td>\n",
              "      <td>37.0</td>\n",
              "      <td>0.003243</td>\n",
              "      <td>0.392099</td>\n",
              "      <td>0.161485</td>\n",
              "    </tr>\n",
              "    <tr>\n",
              "      <th>670</th>\n",
              "      <td>diesel</td>\n",
              "      <td>242</td>\n",
              "      <td>407</td>\n",
              "      <td>38.0</td>\n",
              "      <td>0.003113</td>\n",
              "      <td>0.395212</td>\n",
              "      <td>0.112297</td>\n",
              "    </tr>\n",
              "    <tr>\n",
              "      <th>41</th>\n",
              "      <td>thc</td>\n",
              "      <td>359</td>\n",
              "      <td>405</td>\n",
              "      <td>39.0</td>\n",
              "      <td>0.003098</td>\n",
              "      <td>0.398310</td>\n",
              "      <td>0.166589</td>\n",
              "    </tr>\n",
              "    <tr>\n",
              "      <th>143</th>\n",
              "      <td>consumer</td>\n",
              "      <td>357</td>\n",
              "      <td>394</td>\n",
              "      <td>40.0</td>\n",
              "      <td>0.003014</td>\n",
              "      <td>0.401323</td>\n",
              "      <td>0.165661</td>\n",
              "    </tr>\n",
              "    <tr>\n",
              "      <th>210</th>\n",
              "      <td>grow</td>\n",
              "      <td>334</td>\n",
              "      <td>387</td>\n",
              "      <td>41.0</td>\n",
              "      <td>0.002960</td>\n",
              "      <td>0.404283</td>\n",
              "      <td>0.154988</td>\n",
              "    </tr>\n",
              "    <tr>\n",
              "      <th>287</th>\n",
              "      <td>create</td>\n",
              "      <td>349</td>\n",
              "      <td>375</td>\n",
              "      <td>42.0</td>\n",
              "      <td>0.002868</td>\n",
              "      <td>0.407152</td>\n",
              "      <td>0.161949</td>\n",
              "    </tr>\n",
              "    <tr>\n",
              "      <th>18</th>\n",
              "      <td>potent</td>\n",
              "      <td>361</td>\n",
              "      <td>371</td>\n",
              "      <td>43.0</td>\n",
              "      <td>0.002838</td>\n",
              "      <td>0.409990</td>\n",
              "      <td>0.167517</td>\n",
              "    </tr>\n",
              "    <tr>\n",
              "      <th>109</th>\n",
              "      <td>know</td>\n",
              "      <td>342</td>\n",
              "      <td>366</td>\n",
              "      <td>44.0</td>\n",
              "      <td>0.002800</td>\n",
              "      <td>0.412789</td>\n",
              "      <td>0.158701</td>\n",
              "    </tr>\n",
              "    <tr>\n",
              "      <th>45</th>\n",
              "      <td>earthy</td>\n",
              "      <td>356</td>\n",
              "      <td>358</td>\n",
              "      <td>45.0</td>\n",
              "      <td>0.002738</td>\n",
              "      <td>0.415528</td>\n",
              "      <td>0.165197</td>\n",
              "    </tr>\n",
              "    <tr>\n",
              "      <th>11</th>\n",
              "      <td>talkative</td>\n",
              "      <td>352</td>\n",
              "      <td>356</td>\n",
              "      <td>46.0</td>\n",
              "      <td>0.002723</td>\n",
              "      <td>0.418251</td>\n",
              "      <td>0.163341</td>\n",
              "    </tr>\n",
              "    <tr>\n",
              "      <th>349</th>\n",
              "      <td>heavy</td>\n",
              "      <td>331</td>\n",
              "      <td>356</td>\n",
              "      <td>47.0</td>\n",
              "      <td>0.002723</td>\n",
              "      <td>0.420974</td>\n",
              "      <td>0.153596</td>\n",
              "    </tr>\n",
              "    <tr>\n",
              "      <th>873</th>\n",
              "      <td>white</td>\n",
              "      <td>207</td>\n",
              "      <td>355</td>\n",
              "      <td>48.0</td>\n",
              "      <td>0.002715</td>\n",
              "      <td>0.423689</td>\n",
              "      <td>0.096056</td>\n",
              "    </tr>\n",
              "    <tr>\n",
              "      <th>343</th>\n",
              "      <td>green</td>\n",
              "      <td>286</td>\n",
              "      <td>351</td>\n",
              "      <td>49.0</td>\n",
              "      <td>0.002685</td>\n",
              "      <td>0.426374</td>\n",
              "      <td>0.132715</td>\n",
              "    </tr>\n",
              "    <tr>\n",
              "      <th>359</th>\n",
              "      <td>like</td>\n",
              "      <td>304</td>\n",
              "      <td>342</td>\n",
              "      <td>50.0</td>\n",
              "      <td>0.002616</td>\n",
              "      <td>0.428990</td>\n",
              "      <td>0.141067</td>\n",
              "    </tr>\n",
              "  </tbody>\n",
              "</table>\n",
              "</div>"
            ],
            "text/plain": [
              "           word  appears_in  count  rank  pct_total  cul_pct_total  \\\n",
              "0                      2133  16191   1.0   0.123846       0.123846   \n",
              "6        strain        1694   2759   2.0   0.021104       0.144950   \n",
              "99       hybrid        1309   2331   3.0   0.017830       0.162780   \n",
              "13       indica        1088   2003   4.0   0.015321       0.178101   \n",
              "34        happy        1821   1922   5.0   0.014701       0.192802   \n",
              "33     euphoric        1609   1745   6.0   0.013348       0.206150   \n",
              "1        effect        1217   1475   7.0   0.011282       0.217432   \n",
              "272      sativa         838   1469   8.0   0.011236       0.228669   \n",
              "92     uplifted        1342   1358   9.0   0.010387       0.239056   \n",
              "58            s         895   1271  10.0   0.009722       0.248778   \n",
              "43      relaxed        1124   1164  11.0   0.008904       0.257682   \n",
              "35        cross         972   1031  12.0   0.007886       0.265568   \n",
              "216          og         455    993  13.0   0.007596       0.273163   \n",
              "365        kush         535    987  14.0   0.007550       0.280713   \n",
              "71        aroma         882    919  15.0   0.007029       0.287742   \n",
              "17     dominant         862    892  16.0   0.006823       0.294565   \n",
              "177       relax         770    875  17.0   0.006693       0.301258   \n",
              "95     creative         778    844  18.0   0.006456       0.307714   \n",
              "162       sweet         706    787  19.0   0.006020       0.313734   \n",
              "20          bud         637    737  20.0   0.005637       0.319371   \n",
              "106      sleepy         716    734  21.0   0.005614       0.324986   \n",
              "115      flavor         637    701  22.0   0.005362       0.330348   \n",
              "12    energetic         644    697  23.0   0.005331       0.335679   \n",
              "85         body         643    695  24.0   0.005316       0.340995   \n",
              "258        high         538    653  25.0   0.004995       0.345990   \n",
              "325        seed         538    602  26.0   0.004605       0.350595   \n",
              "334      flower         532    602  27.0   0.004605       0.355199   \n",
              "94        focus         511    546  28.0   0.004176       0.359376   \n",
              "77         pain         530    542  29.0   0.004146       0.363522   \n",
              "101      purple         320    540  30.0   0.004130       0.367652   \n",
              "332       breed         474    493  31.0   0.003771       0.371423   \n",
              "1138       sour         287    469  32.0   0.003587       0.375011   \n",
              "243     genetic         413    467  33.0   0.003572       0.378583   \n",
              "113      hungry         449    451  34.0   0.003450       0.382032   \n",
              "271        haze         228    448  35.0   0.003427       0.385459   \n",
              "294    cannabis         412    444  36.0   0.003396       0.388855   \n",
              "221       plant         348    424  37.0   0.003243       0.392099   \n",
              "670      diesel         242    407  38.0   0.003113       0.395212   \n",
              "41          thc         359    405  39.0   0.003098       0.398310   \n",
              "143    consumer         357    394  40.0   0.003014       0.401323   \n",
              "210        grow         334    387  41.0   0.002960       0.404283   \n",
              "287      create         349    375  42.0   0.002868       0.407152   \n",
              "18       potent         361    371  43.0   0.002838       0.409990   \n",
              "109        know         342    366  44.0   0.002800       0.412789   \n",
              "45       earthy         356    358  45.0   0.002738       0.415528   \n",
              "11    talkative         352    356  46.0   0.002723       0.418251   \n",
              "349       heavy         331    356  47.0   0.002723       0.420974   \n",
              "873       white         207    355  48.0   0.002715       0.423689   \n",
              "343       green         286    351  49.0   0.002685       0.426374   \n",
              "359        like         304    342  50.0   0.002616       0.428990   \n",
              "\n",
              "      appears_in_pct  \n",
              "0           0.989791  \n",
              "6           0.786079  \n",
              "99          0.607425  \n",
              "13          0.504872  \n",
              "34          0.845012  \n",
              "33          0.746636  \n",
              "1           0.564733  \n",
              "272         0.388863  \n",
              "92          0.622738  \n",
              "58          0.415313  \n",
              "43          0.521578  \n",
              "35          0.451044  \n",
              "216         0.211137  \n",
              "365         0.248260  \n",
              "71          0.409281  \n",
              "17          0.400000  \n",
              "177         0.357309  \n",
              "95          0.361021  \n",
              "162         0.327610  \n",
              "20          0.295592  \n",
              "106         0.332251  \n",
              "115         0.295592  \n",
              "12          0.298840  \n",
              "85          0.298376  \n",
              "258         0.249652  \n",
              "325         0.249652  \n",
              "334         0.246868  \n",
              "94          0.237123  \n",
              "77          0.245940  \n",
              "101         0.148492  \n",
              "332         0.219954  \n",
              "1138        0.133179  \n",
              "243         0.191647  \n",
              "113         0.208353  \n",
              "271         0.105800  \n",
              "294         0.191183  \n",
              "221         0.161485  \n",
              "670         0.112297  \n",
              "41          0.166589  \n",
              "143         0.165661  \n",
              "210         0.154988  \n",
              "287         0.161949  \n",
              "18          0.167517  \n",
              "109         0.158701  \n",
              "45          0.165197  \n",
              "11          0.163341  \n",
              "349         0.153596  \n",
              "873         0.096056  \n",
              "343         0.132715  \n",
              "359         0.141067  "
            ]
          },
          "metadata": {
            "tags": []
          },
          "execution_count": 15
        }
      ]
    },
    {
      "cell_type": "markdown",
      "metadata": {
        "id": "IbNX6Rt4_teE",
        "colab_type": "text"
      },
      "source": [
        "### Visualize tokens"
      ]
    },
    {
      "cell_type": "code",
      "metadata": {
        "id": "1OLlkrFI_teF",
        "colab_type": "code",
        "colab": {},
        "outputId": "8a3acd42-79b1-476c-d6c1-79fc598d55cb"
      },
      "source": [
        "sns.lineplot(x='rank', y='cul_pct_total', data=wc);"
      ],
      "execution_count": null,
      "outputs": [
        {
          "output_type": "display_data",
          "data": {
            "image/png": "[encoded data removed]",
            "text/plain": [
              "<Figure size 432x288 with 1 Axes>"
            ]
          },
          "metadata": {
            "tags": [],
            "needs_background": "light"
          }
        }
      ]
    },
    {
      "cell_type": "code",
      "metadata": {
        "id": "NBpqq4Zj_teO",
        "colab_type": "code",
        "colab": {},
        "outputId": "00568861-ae57-4321-e388-b33c1a5b137d"
      },
      "source": [
        "# Percentage of the the top 200 words\n",
        "\n",
        "wc[wc['rank'] <= 200]['cul_pct_total'].max()"
      ],
      "execution_count": null,
      "outputs": [
        {
          "output_type": "execute_result",
          "data": {
            "text/plain": [
              "0.6342142502007847"
            ]
          },
          "metadata": {
            "tags": []
          },
          "execution_count": 17
        }
      ]
    },
    {
      "cell_type": "code",
      "metadata": {
        "id": "FHy-l22c_teR",
        "colab_type": "code",
        "colab": {},
        "outputId": "a2b2dfb8-7f78-40fb-e807-e678fd2c053e"
      },
      "source": [
        "sns.set(rc={'figure.figsize':(13,8)})\n",
        "\n",
        "wc_top20 = wc[wc['rank'] <= 50]\n",
        "\n",
        "squarify.plot(sizes=wc_top20['pct_total'], label=wc_top20['word'], alpha=.8 )\n",
        "plt.axis('off')\n",
        "plt.show()"
      ],
      "execution_count": null,
      "outputs": [
        {
          "output_type": "display_data",
          "data": {
            "image/png": "[encoded data removed]",
            "text/plain": [
              "<Figure size 936x576 with 1 Axes>"
            ]
          },
          "metadata": {
            "tags": []
          }
        }
      ]
    },
    {
      "cell_type": "code",
      "metadata": {
        "id": "W8rZNYc-_teX",
        "colab_type": "code",
        "colab": {},
        "outputId": "8eb2abbb-aa95-4a95-ca62-135732b460b2"
      },
      "source": [
        "# Visualize document length distribution of Description data set\n",
        "\n",
        "doc_len = [len(doc) for doc in df['strain_profile']]\n",
        "\n",
        "sns.distplot(doc_len);"
      ],
      "execution_count": null,
      "outputs": [
        {
          "output_type": "display_data",
          "data": {
            "image/png": "[encoded data removed]",
            "text/plain": [
              "<Figure size 936x576 with 1 Axes>"
            ]
          },
          "metadata": {
            "tags": []
          }
        }
      ]
    },
    {
      "cell_type": "code",
      "metadata": {
        "id": "znJYlE7R_tef",
        "colab_type": "code",
        "colab": {}
      },
      "source": [
        "df = df.drop(['strain_profile', 'tokens'], axis=1)"
      ],
      "execution_count": null,
      "outputs": []
    },
    {
      "cell_type": "code",
      "metadata": {
        "id": "Do7NlqpT_tek",
        "colab_type": "code",
        "colab": {},
        "outputId": "77503a00-6798-4622-f2f3-f4b0e47415b7"
      },
      "source": [
        "df.head()"
      ],
      "execution_count": null,
      "outputs": [
        {
          "output_type": "execute_result",
          "data": {
            "text/html": [
              "<div>\n",
              "<style scoped>\n",
              "    .dataframe tbody tr th:only-of-type {\n",
              "        vertical-align: middle;\n",
              "    }\n",
              "\n",
              "    .dataframe tbody tr th {\n",
              "        vertical-align: top;\n",
              "    }\n",
              "\n",
              "    .dataframe thead th {\n",
              "        text-align: right;\n",
              "    }\n",
              "</style>\n",
              "<table border=\"1\" class=\"dataframe\">\n",
              "  <thead>\n",
              "    <tr style=\"text-align: right;\">\n",
              "      <th></th>\n",
              "      <th>_id</th>\n",
              "      <th>Name</th>\n",
              "      <th>Type</th>\n",
              "      <th>Rating</th>\n",
              "      <th>Effects</th>\n",
              "      <th>Description</th>\n",
              "      <th>Flavors</th>\n",
              "      <th>Nearest</th>\n",
              "    </tr>\n",
              "  </thead>\n",
              "  <tbody>\n",
              "    <tr>\n",
              "      <th>0</th>\n",
              "      <td>0</td>\n",
              "      <td>Kelly Hill Gold</td>\n",
              "      <td>Indica</td>\n",
              "      <td>5.0</td>\n",
              "      <td>Happy,Energetic,Euphoric,Talkative,Aroused</td>\n",
              "      <td>Cultivated by Joseph Arthur Botanicals in Colo...</td>\n",
              "      <td>Pepper,Earthy,Coffee</td>\n",
              "      <td>992,897,439,184,1877</td>\n",
              "    </tr>\n",
              "    <tr>\n",
              "      <th>1</th>\n",
              "      <td>1</td>\n",
              "      <td>Spyder Mon</td>\n",
              "      <td>Hybrid</td>\n",
              "      <td>5.0</td>\n",
              "      <td>Uplifted,Creative,Focused,Happy,Relaxed</td>\n",
              "      <td>Spyder Mon is an uplifting CBD strain with a g...</td>\n",
              "      <td>Citrus,Earthy,Sweet</td>\n",
              "      <td>218,157,1627,223,742</td>\n",
              "    </tr>\n",
              "    <tr>\n",
              "      <th>2</th>\n",
              "      <td>2</td>\n",
              "      <td>Mochi</td>\n",
              "      <td>Hybrid</td>\n",
              "      <td>5.0</td>\n",
              "      <td>Sleepy,Happy,Hungry,Relaxed,Tingly</td>\n",
              "      <td>Mochi by Sherbinski is another strain that lea...</td>\n",
              "      <td>Pungent,Minty,Flowery</td>\n",
              "      <td>614,457,208,705,130</td>\n",
              "    </tr>\n",
              "    <tr>\n",
              "      <th>3</th>\n",
              "      <td>3</td>\n",
              "      <td>Molokai Purpz</td>\n",
              "      <td>Indica</td>\n",
              "      <td>5.0</td>\n",
              "      <td>Aroused,Creative,Euphoric,Relaxed,Sleepy</td>\n",
              "      <td>Moloka'i Purpz is a luscious Hawaiian landrace...</td>\n",
              "      <td>Berry,Grape,Sweet</td>\n",
              "      <td>1478,562,1063,50,390</td>\n",
              "    </tr>\n",
              "    <tr>\n",
              "      <th>4</th>\n",
              "      <td>4</td>\n",
              "      <td>Monolith</td>\n",
              "      <td>Indica</td>\n",
              "      <td>5.0</td>\n",
              "      <td>Relaxed,Sleepy,Tingly,Euphoric,Focused</td>\n",
              "      <td>Monolith is an indica-dominant strain with Afg...</td>\n",
              "      <td>Pungent,Earthy,Pine</td>\n",
              "      <td>1397,862,1094,214,141</td>\n",
              "    </tr>\n",
              "  </tbody>\n",
              "</table>\n",
              "</div>"
            ],
            "text/plain": [
              "   _id             Name    Type  Rating  \\\n",
              "0    0  Kelly Hill Gold  Indica     5.0   \n",
              "1    1       Spyder Mon  Hybrid     5.0   \n",
              "2    2            Mochi  Hybrid     5.0   \n",
              "3    3    Molokai Purpz  Indica     5.0   \n",
              "4    4         Monolith  Indica     5.0   \n",
              "\n",
              "                                      Effects  \\\n",
              "0  Happy,Energetic,Euphoric,Talkative,Aroused   \n",
              "1     Uplifted,Creative,Focused,Happy,Relaxed   \n",
              "2          Sleepy,Happy,Hungry,Relaxed,Tingly   \n",
              "3    Aroused,Creative,Euphoric,Relaxed,Sleepy   \n",
              "4      Relaxed,Sleepy,Tingly,Euphoric,Focused   \n",
              "\n",
              "                                         Description                Flavors  \\\n",
              "0  Cultivated by Joseph Arthur Botanicals in Colo...   Pepper,Earthy,Coffee   \n",
              "1  Spyder Mon is an uplifting CBD strain with a g...    Citrus,Earthy,Sweet   \n",
              "2  Mochi by Sherbinski is another strain that lea...  Pungent,Minty,Flowery   \n",
              "3  Moloka'i Purpz is a luscious Hawaiian landrace...      Berry,Grape,Sweet   \n",
              "4  Monolith is an indica-dominant strain with Afg...    Pungent,Earthy,Pine   \n",
              "\n",
              "                 Nearest  \n",
              "0   992,897,439,184,1877  \n",
              "1   218,157,1627,223,742  \n",
              "2    614,457,208,705,130  \n",
              "3   1478,562,1063,50,390  \n",
              "4  1397,862,1094,214,141  "
            ]
          },
          "metadata": {
            "tags": []
          },
          "execution_count": 21
        }
      ]
    },
    {
      "cell_type": "markdown",
      "metadata": {
        "id": "_-92CR7d_tet",
        "colab_type": "text"
      },
      "source": [
        "# ML Model"
      ]
    },
    {
      "cell_type": "markdown",
      "metadata": {
        "id": "YNyx1XWu_tet",
        "colab_type": "text"
      },
      "source": [
        "## Vectorization"
      ]
    },
    {
      "cell_type": "markdown",
      "metadata": {
        "id": "Kgrruxn5_tev",
        "colab_type": "text"
      },
      "source": [
        "### TFIDF"
      ]
    },
    {
      "cell_type": "code",
      "metadata": {
        "id": "ovvXxcoP_tev",
        "colab_type": "code",
        "colab": {},
        "outputId": "67fd17b5-8a94-471c-80eb-0e387af3e8f2"
      },
      "source": [
        "# Instantiate vectorizer object\n",
        "tfidf = TfidfVectorizer(stop_words='english', \n",
        "                        ngram_range=(1,3),\n",
        "                        max_df=.97,\n",
        "                        min_df=3,\n",
        "                        tokenizer=tokenize,\n",
        "                        max_features = 5000)\n",
        "\n",
        "# Create a vocabulary and get word counts per document\n",
        "dtm = tfidf.fit_transform(df['Type'] + df['Description'] + df['Effects'] + df['Flavors']) # Similiar to fit_predict\n",
        "\n",
        "# Print word counts\n",
        "\n",
        "# Get feature names to use as dataframe column headers\n",
        "dtm = pd.DataFrame(dtm.todense(), columns=tfidf.get_feature_names())\n",
        "\n",
        "# View Feature Matrix as DataFrame\n",
        "dtm.head()"
      ],
      "execution_count": null,
      "outputs": [
        {
          "output_type": "execute_result",
          "data": {
            "text/html": [
              "<div>\n",
              "<style scoped>\n",
              "    .dataframe tbody tr th:only-of-type {\n",
              "        vertical-align: middle;\n",
              "    }\n",
              "\n",
              "    .dataframe tbody tr th {\n",
              "        vertical-align: top;\n",
              "    }\n",
              "\n",
              "    .dataframe thead th {\n",
              "        text-align: right;\n",
              "    }\n",
              "</style>\n",
              "<table border=\"1\" class=\"dataframe\">\n",
              "  <thead>\n",
              "    <tr style=\"text-align: right;\">\n",
              "      <th></th>\n",
              "      <th>1</th>\n",
              "      <th>1 hybrid</th>\n",
              "      <th>10</th>\n",
              "      <th>10 11</th>\n",
              "      <th>10 11 week</th>\n",
              "      <th>10 week</th>\n",
              "      <th>10 week flower</th>\n",
              "      <th>10 week produce</th>\n",
              "      <th>10 weeks.relaxed</th>\n",
              "      <th>100</th>\n",
              "      <th>...</th>\n",
              "      <th>yield potency</th>\n",
              "      <th>yield sweet</th>\n",
              "      <th>yield thc</th>\n",
              "      <th>yielder</th>\n",
              "      <th>yields.happy</th>\n",
              "      <th>yoda</th>\n",
              "      <th>zest</th>\n",
              "      <th>zesty</th>\n",
              "      <th>zesty lemon</th>\n",
              "      <th>zombie</th>\n",
              "    </tr>\n",
              "  </thead>\n",
              "  <tbody>\n",
              "    <tr>\n",
              "      <th>0</th>\n",
              "      <td>0.0</td>\n",
              "      <td>0.0</td>\n",
              "      <td>0.0</td>\n",
              "      <td>0.0</td>\n",
              "      <td>0.0</td>\n",
              "      <td>0.0</td>\n",
              "      <td>0.0</td>\n",
              "      <td>0.0</td>\n",
              "      <td>0.0</td>\n",
              "      <td>0.0</td>\n",
              "      <td>...</td>\n",
              "      <td>0.0</td>\n",
              "      <td>0.0</td>\n",
              "      <td>0.0</td>\n",
              "      <td>0.0</td>\n",
              "      <td>0.0</td>\n",
              "      <td>0.0</td>\n",
              "      <td>0.0</td>\n",
              "      <td>0.0</td>\n",
              "      <td>0.0</td>\n",
              "      <td>0.0</td>\n",
              "    </tr>\n",
              "    <tr>\n",
              "      <th>1</th>\n",
              "      <td>0.0</td>\n",
              "      <td>0.0</td>\n",
              "      <td>0.0</td>\n",
              "      <td>0.0</td>\n",
              "      <td>0.0</td>\n",
              "      <td>0.0</td>\n",
              "      <td>0.0</td>\n",
              "      <td>0.0</td>\n",
              "      <td>0.0</td>\n",
              "      <td>0.0</td>\n",
              "      <td>...</td>\n",
              "      <td>0.0</td>\n",
              "      <td>0.0</td>\n",
              "      <td>0.0</td>\n",
              "      <td>0.0</td>\n",
              "      <td>0.0</td>\n",
              "      <td>0.0</td>\n",
              "      <td>0.0</td>\n",
              "      <td>0.0</td>\n",
              "      <td>0.0</td>\n",
              "      <td>0.0</td>\n",
              "    </tr>\n",
              "    <tr>\n",
              "      <th>2</th>\n",
              "      <td>0.0</td>\n",
              "      <td>0.0</td>\n",
              "      <td>0.0</td>\n",
              "      <td>0.0</td>\n",
              "      <td>0.0</td>\n",
              "      <td>0.0</td>\n",
              "      <td>0.0</td>\n",
              "      <td>0.0</td>\n",
              "      <td>0.0</td>\n",
              "      <td>0.0</td>\n",
              "      <td>...</td>\n",
              "      <td>0.0</td>\n",
              "      <td>0.0</td>\n",
              "      <td>0.0</td>\n",
              "      <td>0.0</td>\n",
              "      <td>0.0</td>\n",
              "      <td>0.0</td>\n",
              "      <td>0.0</td>\n",
              "      <td>0.0</td>\n",
              "      <td>0.0</td>\n",
              "      <td>0.0</td>\n",
              "    </tr>\n",
              "    <tr>\n",
              "      <th>3</th>\n",
              "      <td>0.0</td>\n",
              "      <td>0.0</td>\n",
              "      <td>0.0</td>\n",
              "      <td>0.0</td>\n",
              "      <td>0.0</td>\n",
              "      <td>0.0</td>\n",
              "      <td>0.0</td>\n",
              "      <td>0.0</td>\n",
              "      <td>0.0</td>\n",
              "      <td>0.0</td>\n",
              "      <td>...</td>\n",
              "      <td>0.0</td>\n",
              "      <td>0.0</td>\n",
              "      <td>0.0</td>\n",
              "      <td>0.0</td>\n",
              "      <td>0.0</td>\n",
              "      <td>0.0</td>\n",
              "      <td>0.0</td>\n",
              "      <td>0.0</td>\n",
              "      <td>0.0</td>\n",
              "      <td>0.0</td>\n",
              "    </tr>\n",
              "    <tr>\n",
              "      <th>4</th>\n",
              "      <td>0.0</td>\n",
              "      <td>0.0</td>\n",
              "      <td>0.0</td>\n",
              "      <td>0.0</td>\n",
              "      <td>0.0</td>\n",
              "      <td>0.0</td>\n",
              "      <td>0.0</td>\n",
              "      <td>0.0</td>\n",
              "      <td>0.0</td>\n",
              "      <td>0.0</td>\n",
              "      <td>...</td>\n",
              "      <td>0.0</td>\n",
              "      <td>0.0</td>\n",
              "      <td>0.0</td>\n",
              "      <td>0.0</td>\n",
              "      <td>0.0</td>\n",
              "      <td>0.0</td>\n",
              "      <td>0.0</td>\n",
              "      <td>0.0</td>\n",
              "      <td>0.0</td>\n",
              "      <td>0.0</td>\n",
              "    </tr>\n",
              "  </tbody>\n",
              "</table>\n",
              "<p>5 rows × 5000 columns</p>\n",
              "</div>"
            ],
            "text/plain": [
              "     1  1 hybrid   10  10 11  10 11 week  10 week  10 week flower  \\\n",
              "0  0.0       0.0  0.0    0.0         0.0      0.0             0.0   \n",
              "1  0.0       0.0  0.0    0.0         0.0      0.0             0.0   \n",
              "2  0.0       0.0  0.0    0.0         0.0      0.0             0.0   \n",
              "3  0.0       0.0  0.0    0.0         0.0      0.0             0.0   \n",
              "4  0.0       0.0  0.0    0.0         0.0      0.0             0.0   \n",
              "\n",
              "   10 week produce  10 weeks.relaxed  100  ...  yield potency  yield sweet  \\\n",
              "0              0.0               0.0  0.0  ...            0.0          0.0   \n",
              "1              0.0               0.0  0.0  ...            0.0          0.0   \n",
              "2              0.0               0.0  0.0  ...            0.0          0.0   \n",
              "3              0.0               0.0  0.0  ...            0.0          0.0   \n",
              "4              0.0               0.0  0.0  ...            0.0          0.0   \n",
              "\n",
              "   yield thc  yielder  yields.happy  yoda  zest  zesty  zesty lemon  zombie  \n",
              "0        0.0      0.0           0.0   0.0   0.0    0.0          0.0     0.0  \n",
              "1        0.0      0.0           0.0   0.0   0.0    0.0          0.0     0.0  \n",
              "2        0.0      0.0           0.0   0.0   0.0    0.0          0.0     0.0  \n",
              "3        0.0      0.0           0.0   0.0   0.0    0.0          0.0     0.0  \n",
              "4        0.0      0.0           0.0   0.0   0.0    0.0          0.0     0.0  \n",
              "\n",
              "[5 rows x 5000 columns]"
            ]
          },
          "metadata": {
            "tags": []
          },
          "execution_count": 22
        }
      ]
    },
    {
      "cell_type": "markdown",
      "metadata": {
        "id": "JfqMbf7l_te0",
        "colab_type": "text"
      },
      "source": [
        "## Nearest Neighbors model"
      ]
    },
    {
      "cell_type": "code",
      "metadata": {
        "id": "4gRv3hcM_te1",
        "colab_type": "code",
        "colab": {},
        "outputId": "40ab621b-7863-452d-f1cf-000504b09d4a"
      },
      "source": [
        "nn = NearestNeighbors(n_neighbors=5, algorithm = \"kd_tree\")\n",
        "nn.fit(dtm)"
      ],
      "execution_count": null,
      "outputs": [
        {
          "output_type": "execute_result",
          "data": {
            "text/plain": [
              "NearestNeighbors(algorithm='kd_tree', leaf_size=30, metric='minkowski',\n",
              "                 metric_params=None, n_jobs=None, n_neighbors=5, p=2,\n",
              "                 radius=1.0)"
            ]
          },
          "metadata": {
            "tags": []
          },
          "execution_count": 23
        }
      ]
    },
    {
      "cell_type": "code",
      "metadata": {
        "id": "dQRSPOg8_te6",
        "colab_type": "code",
        "colab": {}
      },
      "source": [
        "user_input = ['I am suffering from headaches. Looking for a sweet flavor and being uplifted and energetic.']"
      ],
      "execution_count": null,
      "outputs": []
    },
    {
      "cell_type": "code",
      "metadata": {
        "id": "Ev5On8b3_te-",
        "colab_type": "code",
        "colab": {}
      },
      "source": [
        "user_dense = tfidf.transform(user_input)\n",
        "nn_user = nn.kneighbors(user_dense.todense())"
      ],
      "execution_count": null,
      "outputs": []
    },
    {
      "cell_type": "code",
      "metadata": {
        "id": "_arSa8Q8_tfD",
        "colab_type": "code",
        "colab": {},
        "outputId": "6d87e314-0af4-4f7c-a3bf-224c3372abdd"
      },
      "source": [
        "nn_user"
      ],
      "execution_count": null,
      "outputs": [
        {
          "output_type": "execute_result",
          "data": {
            "text/plain": [
              "(array([[1.29362567, 1.29553905, 1.30351884, 1.31312138, 1.31513443]]),\n",
              " array([[1846, 1354,  596, 1266, 1312]]))"
            ]
          },
          "metadata": {
            "tags": []
          },
          "execution_count": 26
        }
      ]
    },
    {
      "cell_type": "code",
      "metadata": {
        "id": "1iSGvIVm_tfG",
        "colab_type": "code",
        "colab": {},
        "outputId": "eb4a376a-690c-4a1d-9d3f-617f4146f33a"
      },
      "source": [
        "df.iloc[1846]"
      ],
      "execution_count": null,
      "outputs": [
        {
          "output_type": "execute_result",
          "data": {
            "text/plain": [
              "_id                                                         1846\n",
              "Name                                                   Fire Haze\n",
              "Type                                                      Sativa\n",
              "Rating                                                      3.18\n",
              "Effects                  Euphoric,Focused,Happy,Relaxed,Uplifted\n",
              "Description    Fire Haze is a true sativa. Great for consumer...\n",
              "Flavors                                       Sweet,Berry,Earthy\n",
              "Nearest                                  1775,1137,1052,1406,382\n",
              "Name: 1846, dtype: object"
            ]
          },
          "metadata": {
            "tags": []
          },
          "execution_count": 27
        }
      ]
    },
    {
      "cell_type": "code",
      "metadata": {
        "id": "GcRMA56F_tfK",
        "colab_type": "code",
        "colab": {},
        "outputId": "d1ae1941-56a5-410a-a7fd-ac3cf864b295"
      },
      "source": [
        "df.iloc[1354]"
      ],
      "execution_count": null,
      "outputs": [
        {
          "output_type": "execute_result",
          "data": {
            "text/plain": [
              "_id                                                         1354\n",
              "Name                                                  Lemon Jack\n",
              "Type                                                      Sativa\n",
              "Rating                                                      3.64\n",
              "Effects                Focused,Energetic,Happy,Uplifted,Creative\n",
              "Description    While Lemon Jack has yet to earn the reputatio...\n",
              "Flavors                                       Lemon,Citrus,Sweet\n",
              "Nearest                                   1895,425,824,2122,1707\n",
              "Name: 1354, dtype: object"
            ]
          },
          "metadata": {
            "tags": []
          },
          "execution_count": 28
        }
      ]
    },
    {
      "cell_type": "code",
      "metadata": {
        "id": "NfvTGgZD_tfN",
        "colab_type": "code",
        "colab": {},
        "outputId": "1d9e82db-c208-4689-81bc-adc3591b42da"
      },
      "source": [
        "df.iloc[596]"
      ],
      "execution_count": null,
      "outputs": [
        {
          "output_type": "execute_result",
          "data": {
            "text/plain": [
              "_id                                                          596\n",
              "Name                                                   Glue Tech\n",
              "Type                                                      Hybrid\n",
              "Rating                                                      4.09\n",
              "Effects                   Happy,Relaxed,Hungry,Uplifted,Euphoric\n",
              "Description    Glue Tech is a functional indica that shows it...\n",
              "Flavors                                       Earthy,Sweet,Berry\n",
              "Nearest                                       205,161,354,420,18\n",
              "Name: 596, dtype: object"
            ]
          },
          "metadata": {
            "tags": []
          },
          "execution_count": 29
        }
      ]
    },
    {
      "cell_type": "code",
      "metadata": {
        "id": "kGSh3lBz_tfR",
        "colab_type": "code",
        "colab": {},
        "outputId": "0358eee6-21dd-489b-fc9a-2b45bc0a9dcc"
      },
      "source": [
        "df.iloc[1266]"
      ],
      "execution_count": null,
      "outputs": [
        {
          "output_type": "execute_result",
          "data": {
            "text/plain": [
              "_id                                                         1266\n",
              "Name                                           Cinderellas Dream\n",
              "Type                                                      Hybrid\n",
              "Rating                                                      3.64\n",
              "Effects             Euphoric,Uplifted,Energetic,Focused,Creative\n",
              "Description    Cinderella's Dream is a sativa-dominant hybrid...\n",
              "Flavors                                      Pepper,Sweet,Citrus\n",
              "Nearest                                   634,1133,1406,542,1287\n",
              "Name: 1266, dtype: object"
            ]
          },
          "metadata": {
            "tags": []
          },
          "execution_count": 30
        }
      ]
    },
    {
      "cell_type": "code",
      "metadata": {
        "id": "XOgnD2kd_tfW",
        "colab_type": "code",
        "colab": {},
        "outputId": "28e04400-36c8-494e-c999-d44d0dbd36b9"
      },
      "source": [
        "df.iloc[1312]"
      ],
      "execution_count": null,
      "outputs": [
        {
          "output_type": "execute_result",
          "data": {
            "text/plain": [
              "_id                                                         1312\n",
              "Name                                           Super Silver Haze\n",
              "Type                                                      Sativa\n",
              "Rating                                                      3.64\n",
              "Effects                Happy,Uplifted,Energetic,Euphoric,Relaxed\n",
              "Description    Super Silver Haze, bred by Green House Seeds, ...\n",
              "Flavors                                      Citrus,Earthy,Sweet\n",
              "Nearest                                  1813,1271,1874,689,1447\n",
              "Name: 1312, dtype: object"
            ]
          },
          "metadata": {
            "tags": []
          },
          "execution_count": 31
        }
      ]
    },
    {
      "cell_type": "markdown",
      "metadata": {
        "id": "GGMdFRol_tfg",
        "colab_type": "text"
      },
      "source": [
        "# Functions"
      ]
    },
    {
      "cell_type": "code",
      "metadata": {
        "id": "_CP4NuoH_tfh",
        "colab_type": "code",
        "colab": {}
      },
      "source": [
        "# Create nearest neighbor function\n",
        "\n",
        "def recommender(user_input):\n",
        "    \n",
        "    recommendations = nn.kneighbors(tfidf.transform([user_input]).todense())[1]    \n",
        "    return recommendations\n",
        "\n"
      ],
      "execution_count": null,
      "outputs": []
    },
    {
      "cell_type": "code",
      "metadata": {
        "id": "WIosnrak_tfk",
        "colab_type": "code",
        "colab": {},
        "outputId": "7730adf8-1bbf-4adc-9b7b-9949fd1185b7"
      },
      "source": [
        "recommender(user_input)"
      ],
      "execution_count": null,
      "outputs": [
        {
          "output_type": "execute_result",
          "data": {
            "text/plain": [
              "{'_id': 1846,\n",
              " 'Name': 'Fire Haze',\n",
              " 'Type': 'Sativa',\n",
              " 'Rating': 3.18,\n",
              " 'Effects': 'Euphoric,Focused,Happy,Relaxed,Uplifted',\n",
              " 'Description': 'Fire Haze is a true sativa. Great for consumers who suffer from stress, anxiety, and headaches, this strain is mentally stimulating and upbeat. The effects of Fire Haze are felt most strongly in the head, providing consumers with focus and tension reduction in both the head and neck. Sociable and energizing, Fire Haze is a great daytime strain. It features a strong herbal scent and a musky, nutty taste. This may not be a good strain for those who suffer from acute pain, as it does not provide the same muscle-relaxing sensations that are found in indicas.',\n",
              " 'Flavors': 'Sweet,Berry,Earthy',\n",
              " 'Nearest': '1775,1137,1052,1406,382'}"
            ]
          },
          "metadata": {
            "tags": []
          },
          "execution_count": 33
        }
      ]
    },
    {
      "cell_type": "code",
      "metadata": {
        "id": "FKl6XA6B_tfp",
        "colab_type": "code",
        "colab": {}
      },
      "source": [
        ""
      ],
      "execution_count": null,
      "outputs": []
    }
  ]
}